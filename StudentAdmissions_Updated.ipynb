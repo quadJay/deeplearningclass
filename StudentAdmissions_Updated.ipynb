{
 "cells": [
  {
   "cell_type": "markdown",
   "metadata": {},
   "source": [
    "# Predicting Student Admissions with Neural Networks\n",
    "In this notebook, we predict student admissions to graduate school at UCLA based on three pieces of data:\n",
    "- GRE Scores (Test)\n",
    "- GPA Scores (Grades)\n",
    "- Class rank (1-4)\n",
    "\n",
    "The dataset originally came from here: http://www.ats.ucla.edu/\n",
    "\n",
    "## Loading the data\n",
    "To load the data and format it nicely, we will use two very useful packages called Pandas and Numpy. You can read on the documentation here:\n",
    "- https://pandas.pydata.org/pandas-docs/stable/\n",
    "- https://docs.scipy.org/"
   ]
  },
  {
   "cell_type": "code",
   "execution_count": 1,
   "metadata": {},
   "outputs": [
    {
     "data": {
      "text/html": [
       "<div>\n",
       "<style scoped>\n",
       "    .dataframe tbody tr th:only-of-type {\n",
       "        vertical-align: middle;\n",
       "    }\n",
       "\n",
       "    .dataframe tbody tr th {\n",
       "        vertical-align: top;\n",
       "    }\n",
       "\n",
       "    .dataframe thead th {\n",
       "        text-align: right;\n",
       "    }\n",
       "</style>\n",
       "<table border=\"1\" class=\"dataframe\">\n",
       "  <thead>\n",
       "    <tr style=\"text-align: right;\">\n",
       "      <th></th>\n",
       "      <th>admit</th>\n",
       "      <th>gre</th>\n",
       "      <th>gpa</th>\n",
       "      <th>rank</th>\n",
       "    </tr>\n",
       "  </thead>\n",
       "  <tbody>\n",
       "    <tr>\n",
       "      <th>0</th>\n",
       "      <td>0</td>\n",
       "      <td>380</td>\n",
       "      <td>3.61</td>\n",
       "      <td>3</td>\n",
       "    </tr>\n",
       "    <tr>\n",
       "      <th>1</th>\n",
       "      <td>1</td>\n",
       "      <td>660</td>\n",
       "      <td>3.67</td>\n",
       "      <td>3</td>\n",
       "    </tr>\n",
       "    <tr>\n",
       "      <th>2</th>\n",
       "      <td>1</td>\n",
       "      <td>800</td>\n",
       "      <td>4.00</td>\n",
       "      <td>1</td>\n",
       "    </tr>\n",
       "    <tr>\n",
       "      <th>3</th>\n",
       "      <td>1</td>\n",
       "      <td>640</td>\n",
       "      <td>3.19</td>\n",
       "      <td>4</td>\n",
       "    </tr>\n",
       "    <tr>\n",
       "      <th>4</th>\n",
       "      <td>0</td>\n",
       "      <td>520</td>\n",
       "      <td>2.93</td>\n",
       "      <td>4</td>\n",
       "    </tr>\n",
       "    <tr>\n",
       "      <th>5</th>\n",
       "      <td>1</td>\n",
       "      <td>760</td>\n",
       "      <td>3.00</td>\n",
       "      <td>2</td>\n",
       "    </tr>\n",
       "    <tr>\n",
       "      <th>6</th>\n",
       "      <td>1</td>\n",
       "      <td>560</td>\n",
       "      <td>2.98</td>\n",
       "      <td>1</td>\n",
       "    </tr>\n",
       "    <tr>\n",
       "      <th>7</th>\n",
       "      <td>0</td>\n",
       "      <td>400</td>\n",
       "      <td>3.08</td>\n",
       "      <td>2</td>\n",
       "    </tr>\n",
       "    <tr>\n",
       "      <th>8</th>\n",
       "      <td>1</td>\n",
       "      <td>540</td>\n",
       "      <td>3.39</td>\n",
       "      <td>3</td>\n",
       "    </tr>\n",
       "    <tr>\n",
       "      <th>9</th>\n",
       "      <td>0</td>\n",
       "      <td>700</td>\n",
       "      <td>3.92</td>\n",
       "      <td>2</td>\n",
       "    </tr>\n",
       "  </tbody>\n",
       "</table>\n",
       "</div>"
      ],
      "text/plain": [
       "   admit  gre   gpa  rank\n",
       "0      0  380  3.61     3\n",
       "1      1  660  3.67     3\n",
       "2      1  800  4.00     1\n",
       "3      1  640  3.19     4\n",
       "4      0  520  2.93     4\n",
       "5      1  760  3.00     2\n",
       "6      1  560  2.98     1\n",
       "7      0  400  3.08     2\n",
       "8      1  540  3.39     3\n",
       "9      0  700  3.92     2"
      ]
     },
     "execution_count": 1,
     "metadata": {},
     "output_type": "execute_result"
    }
   ],
   "source": [
    "# Importing pandas and numpy\n",
    "import pandas as pd\n",
    "import numpy as np\n",
    "\n",
    "# Reading the csv file into a pandas DataFrame\n",
    "data = pd.read_csv('student_data.csv')\n",
    "\n",
    "# Printing out the first 10 rows of our data\n",
    "data[:10]"
   ]
  },
  {
   "cell_type": "markdown",
   "metadata": {},
   "source": [
    "## Plotting the data\n",
    "\n",
    "First let's make a plot of our data to see how it looks. In order to have a 2D plot, let's ingore the rank."
   ]
  },
  {
   "cell_type": "code",
   "execution_count": 9,
   "metadata": {},
   "outputs": [
    {
     "data": {
      "image/png": "[encoded data removed]",
      "text/plain": [
       "<Figure size 432x288 with 1 Axes>"
      ]
     },
     "metadata": {},
     "output_type": "display_data"
    }
   ],
   "source": [
    "# Importing matplotlib\n",
    "import matplotlib.pyplot as plt\n",
    "\n",
    "# Function to help us plot\n",
    "def plot_points(data):\n",
    "    X = np.array(data[[\"gre\",\"gpa\"]])\n",
    "    y = np.array(data[\"admit\"])\n",
    "    admitted = X[np.argwhere(y==1)]\n",
    "    rejected = X[np.argwhere(y==0)]\n",
    "    plt.scatter([s[0][0] for s in rejected], [s[0][1] for s in rejected], s = 25, color = 'red', edgecolor = 'k')\n",
    "    plt.scatter([s[0][0] for s in admitted], [s[0][1] for s in admitted], s = 25, color = 'cyan', edgecolor = 'k')\n",
    "    plt.xlabel('Test (GRE)')\n",
    "    plt.ylabel('Grades (GPA)')\n",
    "    \n",
    "# Plotting the points\n",
    "plot_points(data)\n",
    "plt.show()"
   ]
  },
  {
   "cell_type": "markdown",
   "metadata": {},
   "source": [
    "Roughly, it looks like the students with high scores in the grades and test passed, while the ones with low scores didn't, but the data is not as nicely separable as we hoped it would. Maybe it would help to take the rank into account? Let's make 4 plots, each one for each rank."
   ]
  },
  {
   "cell_type": "code",
   "execution_count": 10,
   "metadata": {},
   "outputs": [
    {
     "data": {
      "image/png": "[encoded data removed]",
      "text/plain": [
       "<Figure size 432x288 with 1 Axes>"
      ]
     },
     "metadata": {},
     "output_type": "display_data"
    },
    {
     "data": {
      "image/png": "[encoded data removed]",
      "text/plain": [
       "<Figure size 432x288 with 1 Axes>"
      ]
     },
     "metadata": {},
     "output_type": "display_data"
    },
    {
     "data": {
      "image/png": "[encoded data removed]",
      "text/plain": [
       "<Figure size 432x288 with 1 Axes>"
      ]
     },
     "metadata": {},
     "output_type": "display_data"
    },
    {
     "data": {
      "image/png": "[encoded data removed]",
      "text/plain": [
       "<Figure size 432x288 with 1 Axes>"
      ]
     },
     "metadata": {},
     "output_type": "display_data"
    }
   ],
   "source": [
    "# Separating the ranks\n",
    "data_rank1 = data[data[\"rank\"]==1]\n",
    "data_rank2 = data[data[\"rank\"]==2]\n",
    "data_rank3 = data[data[\"rank\"]==3]\n",
    "data_rank4 = data[data[\"rank\"]==4]\n",
    "\n",
    "# Plotting the graphs\n",
    "plot_points(data_rank1)\n",
    "plt.title(\"Rank 1\")\n",
    "plt.show()\n",
    "plot_points(data_rank2)\n",
    "plt.title(\"Rank 2\")\n",
    "plt.show()\n",
    "plot_points(data_rank3)\n",
    "plt.title(\"Rank 3\")\n",
    "plt.show()\n",
    "plot_points(data_rank4)\n",
    "plt.title(\"Rank 4\")\n",
    "plt.show()"
   ]
  },
  {
   "cell_type": "markdown",
   "metadata": {},
   "source": [
    "This looks more promising, as it seems that the lower the rank, the higher the acceptance rate. Let's use the rank as one of our inputs. In order to do this, we should one-hot encode it.\n",
    "\n",
    "## TODO: One-hot encoding the rank\n",
    "Use the `get_dummies` function in numpy in order to one-hot encode the data."
   ]
  },
  {
   "cell_type": "code",
   "execution_count": 11,
   "metadata": {},
   "outputs": [
    {
     "name": "stdout",
     "output_type": "stream",
     "text": [
      "     admit  gre   gpa  rank  rank_1  rank_2  rank_3  rank_4\n",
      "0        0  380  3.61     3       0       0       1       0\n",
      "1        1  660  3.67     3       0       0       1       0\n",
      "2        1  800  4.00     1       1       0       0       0\n",
      "3        1  640  3.19     4       0       0       0       1\n",
      "4        0  520  2.93     4       0       0       0       1\n",
      "5        1  760  3.00     2       0       1       0       0\n",
      "6        1  560  2.98     1       1       0       0       0\n",
      "7        0  400  3.08     2       0       1       0       0\n",
      "8        1  540  3.39     3       0       0       1       0\n",
      "9        0  700  3.92     2       0       1       0       0\n",
      "10       0  800  4.00     4       0       0       0       1\n",
      "11       0  440  3.22     1       1       0       0       0\n",
      "12       1  760  4.00     1       1       0       0       0\n",
      "13       0  700  3.08     2       0       1       0       0\n",
      "14       1  700  4.00     1       1       0       0       0\n",
      "15       0  480  3.44     3       0       0       1       0\n",
      "16       0  780  3.87     4       0       0       0       1\n",
      "17       0  360  2.56     3       0       0       1       0\n",
      "18       0  800  3.75     2       0       1       0       0\n",
      "19       1  540  3.81     1       1       0       0       0\n",
      "20       0  500  3.17     3       0       0       1       0\n",
      "21       1  660  3.63     2       0       1       0       0\n",
      "22       0  600  2.82     4       0       0       0       1\n",
      "23       0  680  3.19     4       0       0       0       1\n",
      "24       1  760  3.35     2       0       1       0       0\n",
      "25       1  800  3.66     1       1       0       0       0\n",
      "26       1  620  3.61     1       1       0       0       0\n",
      "27       1  520  3.74     4       0       0       0       1\n",
      "28       1  780  3.22     2       0       1       0       0\n",
      "29       0  520  3.29     1       1       0       0       0\n",
      "..     ...  ...   ...   ...     ...     ...     ...     ...\n",
      "370      1  540  3.77     2       0       1       0       0\n",
      "371      1  680  3.76     3       0       0       1       0\n",
      "372      1  680  2.42     1       1       0       0       0\n",
      "373      1  620  3.37     1       1       0       0       0\n",
      "374      0  560  3.78     2       0       1       0       0\n",
      "375      0  560  3.49     4       0       0       0       1\n",
      "376      0  620  3.63     2       0       1       0       0\n",
      "377      1  800  4.00     2       0       1       0       0\n",
      "378      0  640  3.12     3       0       0       1       0\n",
      "379      0  540  2.70     2       0       1       0       0\n",
      "380      0  700  3.65     2       0       1       0       0\n",
      "381      1  540  3.49     2       0       1       0       0\n",
      "382      0  540  3.51     2       0       1       0       0\n",
      "383      0  660  4.00     1       1       0       0       0\n",
      "384      1  480  2.62     2       0       1       0       0\n",
      "385      0  420  3.02     1       1       0       0       0\n",
      "386      1  740  3.86     2       0       1       0       0\n",
      "387      0  580  3.36     2       0       1       0       0\n",
      "388      0  640  3.17     2       0       1       0       0\n",
      "389      0  640  3.51     2       0       1       0       0\n",
      "390      1  800  3.05     2       0       1       0       0\n",
      "391      1  660  3.88     2       0       1       0       0\n",
      "392      1  600  3.38     3       0       0       1       0\n",
      "393      1  620  3.75     2       0       1       0       0\n",
      "394      1  460  3.99     3       0       0       1       0\n",
      "395      0  620  4.00     2       0       1       0       0\n",
      "396      0  560  3.04     3       0       0       1       0\n",
      "397      0  460  2.63     2       0       1       0       0\n",
      "398      0  700  3.65     2       0       1       0       0\n",
      "399      0  600  3.89     3       0       0       1       0\n",
      "\n",
      "[400 rows x 8 columns]\n"
     ]
    },
    {
     "data": {
      "text/html": [
       "<div>\n",
       "<style scoped>\n",
       "    .dataframe tbody tr th:only-of-type {\n",
       "        vertical-align: middle;\n",
       "    }\n",
       "\n",
       "    .dataframe tbody tr th {\n",
       "        vertical-align: top;\n",
       "    }\n",
       "\n",
       "    .dataframe thead th {\n",
       "        text-align: right;\n",
       "    }\n",
       "</style>\n",
       "<table border=\"1\" class=\"dataframe\">\n",
       "  <thead>\n",
       "    <tr style=\"text-align: right;\">\n",
       "      <th></th>\n",
       "      <th>admit</th>\n",
       "      <th>gre</th>\n",
       "      <th>gpa</th>\n",
       "      <th>rank_1</th>\n",
       "      <th>rank_2</th>\n",
       "      <th>rank_3</th>\n",
       "      <th>rank_4</th>\n",
       "    </tr>\n",
       "  </thead>\n",
       "  <tbody>\n",
       "    <tr>\n",
       "      <th>0</th>\n",
       "      <td>0</td>\n",
       "      <td>380</td>\n",
       "      <td>3.61</td>\n",
       "      <td>0</td>\n",
       "      <td>0</td>\n",
       "      <td>1</td>\n",
       "      <td>0</td>\n",
       "    </tr>\n",
       "    <tr>\n",
       "      <th>1</th>\n",
       "      <td>1</td>\n",
       "      <td>660</td>\n",
       "      <td>3.67</td>\n",
       "      <td>0</td>\n",
       "      <td>0</td>\n",
       "      <td>1</td>\n",
       "      <td>0</td>\n",
       "    </tr>\n",
       "    <tr>\n",
       "      <th>2</th>\n",
       "      <td>1</td>\n",
       "      <td>800</td>\n",
       "      <td>4.00</td>\n",
       "      <td>1</td>\n",
       "      <td>0</td>\n",
       "      <td>0</td>\n",
       "      <td>0</td>\n",
       "    </tr>\n",
       "    <tr>\n",
       "      <th>3</th>\n",
       "      <td>1</td>\n",
       "      <td>640</td>\n",
       "      <td>3.19</td>\n",
       "      <td>0</td>\n",
       "      <td>0</td>\n",
       "      <td>0</td>\n",
       "      <td>1</td>\n",
       "    </tr>\n",
       "    <tr>\n",
       "      <th>4</th>\n",
       "      <td>0</td>\n",
       "      <td>520</td>\n",
       "      <td>2.93</td>\n",
       "      <td>0</td>\n",
       "      <td>0</td>\n",
       "      <td>0</td>\n",
       "      <td>1</td>\n",
       "    </tr>\n",
       "    <tr>\n",
       "      <th>5</th>\n",
       "      <td>1</td>\n",
       "      <td>760</td>\n",
       "      <td>3.00</td>\n",
       "      <td>0</td>\n",
       "      <td>1</td>\n",
       "      <td>0</td>\n",
       "      <td>0</td>\n",
       "    </tr>\n",
       "    <tr>\n",
       "      <th>6</th>\n",
       "      <td>1</td>\n",
       "      <td>560</td>\n",
       "      <td>2.98</td>\n",
       "      <td>1</td>\n",
       "      <td>0</td>\n",
       "      <td>0</td>\n",
       "      <td>0</td>\n",
       "    </tr>\n",
       "    <tr>\n",
       "      <th>7</th>\n",
       "      <td>0</td>\n",
       "      <td>400</td>\n",
       "      <td>3.08</td>\n",
       "      <td>0</td>\n",
       "      <td>1</td>\n",
       "      <td>0</td>\n",
       "      <td>0</td>\n",
       "    </tr>\n",
       "    <tr>\n",
       "      <th>8</th>\n",
       "      <td>1</td>\n",
       "      <td>540</td>\n",
       "      <td>3.39</td>\n",
       "      <td>0</td>\n",
       "      <td>0</td>\n",
       "      <td>1</td>\n",
       "      <td>0</td>\n",
       "    </tr>\n",
       "    <tr>\n",
       "      <th>9</th>\n",
       "      <td>0</td>\n",
       "      <td>700</td>\n",
       "      <td>3.92</td>\n",
       "      <td>0</td>\n",
       "      <td>1</td>\n",
       "      <td>0</td>\n",
       "      <td>0</td>\n",
       "    </tr>\n",
       "  </tbody>\n",
       "</table>\n",
       "</div>"
      ],
      "text/plain": [
       "   admit  gre   gpa  rank_1  rank_2  rank_3  rank_4\n",
       "0      0  380  3.61       0       0       1       0\n",
       "1      1  660  3.67       0       0       1       0\n",
       "2      1  800  4.00       1       0       0       0\n",
       "3      1  640  3.19       0       0       0       1\n",
       "4      0  520  2.93       0       0       0       1\n",
       "5      1  760  3.00       0       1       0       0\n",
       "6      1  560  2.98       1       0       0       0\n",
       "7      0  400  3.08       0       1       0       0\n",
       "8      1  540  3.39       0       0       1       0\n",
       "9      0  700  3.92       0       1       0       0"
      ]
     },
     "execution_count": 11,
     "metadata": {},
     "output_type": "execute_result"
    }
   ],
   "source": [
    "# TODO:  Make dummy variables for rank\n",
    "one_hot_data = pd.concat([data, pd.get_dummies(data['rank'], prefix='rank')], axis=1)\n",
    "print(one_hot_data)\n",
    "# TODO: Drop the previous rank column\n",
    "one_hot_data = one_hot_data.drop('rank', axis=1)\n",
    "\n",
    "# Print the first 10 rows of our data\n",
    "one_hot_data[:10]"
   ]
  },
  {
   "cell_type": "markdown",
   "metadata": {},
   "source": [
    "## TODO: Scaling the data\n",
    "The next step is to scale the data. We notice that the range for grades is 1.0-4.0, whereas the range for test scores is roughly 200-800, which is much larger. This means our data is skewed, and that makes it hard for a neural network to handle. Let's fit our two features into a range of 0-1, by dividing the grades by 4.0, and the test score by 800."
   ]
  },
  {
   "cell_type": "code",
   "execution_count": 12,
   "metadata": {},
   "outputs": [
    {
     "data": {
      "text/html": [
       "<div>\n",
       "<style scoped>\n",
       "    .dataframe tbody tr th:only-of-type {\n",
       "        vertical-align: middle;\n",
       "    }\n",
       "\n",
       "    .dataframe tbody tr th {\n",
       "        vertical-align: top;\n",
       "    }\n",
       "\n",
       "    .dataframe thead th {\n",
       "        text-align: right;\n",
       "    }\n",
       "</style>\n",
       "<table border=\"1\" class=\"dataframe\">\n",
       "  <thead>\n",
       "    <tr style=\"text-align: right;\">\n",
       "      <th></th>\n",
       "      <th>admit</th>\n",
       "      <th>gre</th>\n",
       "      <th>gpa</th>\n",
       "      <th>rank_1</th>\n",
       "      <th>rank_2</th>\n",
       "      <th>rank_3</th>\n",
       "      <th>rank_4</th>\n",
       "    </tr>\n",
       "  </thead>\n",
       "  <tbody>\n",
       "    <tr>\n",
       "      <th>0</th>\n",
       "      <td>0</td>\n",
       "      <td>0.475</td>\n",
       "      <td>0.9025</td>\n",
       "      <td>0</td>\n",
       "      <td>0</td>\n",
       "      <td>1</td>\n",
       "      <td>0</td>\n",
       "    </tr>\n",
       "    <tr>\n",
       "      <th>1</th>\n",
       "      <td>1</td>\n",
       "      <td>0.825</td>\n",
       "      <td>0.9175</td>\n",
       "      <td>0</td>\n",
       "      <td>0</td>\n",
       "      <td>1</td>\n",
       "      <td>0</td>\n",
       "    </tr>\n",
       "    <tr>\n",
       "      <th>2</th>\n",
       "      <td>1</td>\n",
       "      <td>1.000</td>\n",
       "      <td>1.0000</td>\n",
       "      <td>1</td>\n",
       "      <td>0</td>\n",
       "      <td>0</td>\n",
       "      <td>0</td>\n",
       "    </tr>\n",
       "    <tr>\n",
       "      <th>3</th>\n",
       "      <td>1</td>\n",
       "      <td>0.800</td>\n",
       "      <td>0.7975</td>\n",
       "      <td>0</td>\n",
       "      <td>0</td>\n",
       "      <td>0</td>\n",
       "      <td>1</td>\n",
       "    </tr>\n",
       "    <tr>\n",
       "      <th>4</th>\n",
       "      <td>0</td>\n",
       "      <td>0.650</td>\n",
       "      <td>0.7325</td>\n",
       "      <td>0</td>\n",
       "      <td>0</td>\n",
       "      <td>0</td>\n",
       "      <td>1</td>\n",
       "    </tr>\n",
       "    <tr>\n",
       "      <th>5</th>\n",
       "      <td>1</td>\n",
       "      <td>0.950</td>\n",
       "      <td>0.7500</td>\n",
       "      <td>0</td>\n",
       "      <td>1</td>\n",
       "      <td>0</td>\n",
       "      <td>0</td>\n",
       "    </tr>\n",
       "    <tr>\n",
       "      <th>6</th>\n",
       "      <td>1</td>\n",
       "      <td>0.700</td>\n",
       "      <td>0.7450</td>\n",
       "      <td>1</td>\n",
       "      <td>0</td>\n",
       "      <td>0</td>\n",
       "      <td>0</td>\n",
       "    </tr>\n",
       "    <tr>\n",
       "      <th>7</th>\n",
       "      <td>0</td>\n",
       "      <td>0.500</td>\n",
       "      <td>0.7700</td>\n",
       "      <td>0</td>\n",
       "      <td>1</td>\n",
       "      <td>0</td>\n",
       "      <td>0</td>\n",
       "    </tr>\n",
       "    <tr>\n",
       "      <th>8</th>\n",
       "      <td>1</td>\n",
       "      <td>0.675</td>\n",
       "      <td>0.8475</td>\n",
       "      <td>0</td>\n",
       "      <td>0</td>\n",
       "      <td>1</td>\n",
       "      <td>0</td>\n",
       "    </tr>\n",
       "    <tr>\n",
       "      <th>9</th>\n",
       "      <td>0</td>\n",
       "      <td>0.875</td>\n",
       "      <td>0.9800</td>\n",
       "      <td>0</td>\n",
       "      <td>1</td>\n",
       "      <td>0</td>\n",
       "      <td>0</td>\n",
       "    </tr>\n",
       "  </tbody>\n",
       "</table>\n",
       "</div>"
      ],
      "text/plain": [
       "   admit    gre     gpa  rank_1  rank_2  rank_3  rank_4\n",
       "0      0  0.475  0.9025       0       0       1       0\n",
       "1      1  0.825  0.9175       0       0       1       0\n",
       "2      1  1.000  1.0000       1       0       0       0\n",
       "3      1  0.800  0.7975       0       0       0       1\n",
       "4      0  0.650  0.7325       0       0       0       1\n",
       "5      1  0.950  0.7500       0       1       0       0\n",
       "6      1  0.700  0.7450       1       0       0       0\n",
       "7      0  0.500  0.7700       0       1       0       0\n",
       "8      1  0.675  0.8475       0       0       1       0\n",
       "9      0  0.875  0.9800       0       1       0       0"
      ]
     },
     "execution_count": 12,
     "metadata": {},
     "output_type": "execute_result"
    }
   ],
   "source": [
    "# Making a copy of our data\n",
    "processed_data = one_hot_data[:]\n",
    "\n",
    "# TODO: Scale the columns\n",
    "processed_data['gre'] = processed_data['gre']/800\n",
    "processed_data['gpa'] = processed_data['gpa']/4.0\n",
    "\n",
    "# Printing the first 10 rows of our procesed data\n",
    "processed_data[:10]"
   ]
  },
  {
   "cell_type": "markdown",
   "metadata": {},
   "source": [
    "## Splitting the data into Training and Testing"
   ]
  },
  {
   "cell_type": "markdown",
   "metadata": {},
   "source": [
    "In order to test our algorithm, we'll split the data into a Training and a Testing set. The size of the testing set will be 10% of the total data."
   ]
  },
  {
   "cell_type": "code",
   "execution_count": 13,
   "metadata": {},
   "outputs": [
    {
     "name": "stdout",
     "output_type": "stream",
     "text": [
      "Number of training samples is 360\n",
      "Number of testing samples is 40\n",
      "     admit    gre     gpa  rank_1  rank_2  rank_3  rank_4\n",
      "344      0  0.650  0.8375       0       0       1       0\n",
      "347      0  0.725  0.9500       0       1       0       0\n",
      "128      0  0.675  0.7975       0       1       0       0\n",
      "103      0  0.675  0.9850       0       0       1       0\n",
      "253      1  0.675  0.8875       0       0       0       1\n",
      "52       0  0.925  0.8425       0       0       0       1\n",
      "89       1  0.825  1.0000       0       1       0       0\n",
      "82       0  0.625  0.6775       0       1       0       0\n",
      "72       0  0.600  0.8475       0       0       0       1\n",
      "0        0  0.475  0.9025       0       0       1       0\n",
      "     admit    gre     gpa  rank_1  rank_2  rank_3  rank_4\n",
      "7        0  0.500  0.7700       0       1       0       0\n",
      "13       0  0.875  0.7700       0       1       0       0\n",
      "21       1  0.825  0.9075       0       1       0       0\n",
      "28       1  0.975  0.8050       0       1       0       0\n",
      "30       0  0.675  0.9450       0       0       0       1\n",
      "42       1  0.750  0.7875       0       1       0       0\n",
      "76       0  0.700  0.8400       0       0       1       0\n",
      "83       0  0.475  0.7275       0       0       0       1\n",
      "102      0  0.475  0.8325       0       0       0       1\n",
      "113      0  0.750  0.8050       1       0       0       0\n"
     ]
    }
   ],
   "source": [
    "sample = np.random.choice(processed_data.index, size=int(len(processed_data)*0.9), replace=False)\n",
    "train_data, test_data = processed_data.iloc[sample], processed_data.drop(sample)\n",
    "\n",
    "print(\"Number of training samples is\", len(train_data))\n",
    "print(\"Number of testing samples is\", len(test_data))\n",
    "print(train_data[:10])\n",
    "print(test_data[:10])"
   ]
  },
  {
   "cell_type": "markdown",
   "metadata": {},
   "source": [
    "## Splitting the data into features and targets (labels)\n",
    "Now, as a final step before the training, we'll split the data into features (X) and targets (y)."
   ]
  },
  {
   "cell_type": "code",
   "execution_count": 17,
   "metadata": {},
   "outputs": [
    {
     "name": "stdout",
     "output_type": "stream",
     "text": [
      "       gre     gpa  rank_1  rank_2  rank_3  rank_4\n",
      "344  0.650  0.8375       0       0       1       0\n",
      "347  0.725  0.9500       0       1       0       0\n",
      "128  0.675  0.7975       0       1       0       0\n",
      "103  0.675  0.9850       0       0       1       0\n",
      "253  0.675  0.8875       0       0       0       1\n",
      "52   0.925  0.8425       0       0       0       1\n",
      "89   0.825  1.0000       0       1       0       0\n",
      "82   0.625  0.6775       0       1       0       0\n",
      "72   0.600  0.8475       0       0       0       1\n",
      "0    0.475  0.9025       0       0       1       0\n",
      "344    0\n",
      "347    0\n",
      "128    0\n",
      "103    0\n",
      "253    1\n",
      "52     0\n",
      "89     1\n",
      "82     0\n",
      "72     0\n",
      "0      0\n",
      "Name: admit, dtype: int64\n"
     ]
    }
   ],
   "source": [
    "features = train_data.drop('admit', axis=1)\n",
    "targets = train_data['admit']\n",
    "features_test = test_data.drop('admit', axis=1)\n",
    "targets_test = test_data['admit']\n",
    "\n",
    "print(features[:10])\n",
    "print(targets[:10])"
   ]
  },
  {
   "cell_type": "markdown",
   "metadata": {},
   "source": [
    "## Training the 2-layer Neural Network\n",
    "The following function trains the 2-layer neural network. First, we'll write some helper functions."
   ]
  },
  {
   "cell_type": "code",
   "execution_count": 40,
   "metadata": {},
   "outputs": [],
   "source": [
    "# Activation (sigmoid) function\n",
    "def sigmoid(x):\n",
    "    return 1 / (1 + np.exp(-x))\n",
    "def sigmoid_prime(x):\n",
    "    return sigmoid(x) * (1-sigmoid(x))\n",
    "def error_formula(y, output):\n",
    "    return - y*np.log(output) - (1 - y) * np.log(1-output)"
   ]
  },
  {
   "cell_type": "markdown",
   "metadata": {},
   "source": [
    "# TODO: Backpropagate the error\n",
    "Now it's your turn to shine. Write the error term. Remember that this is given by the equation $$ -(y-\\hat{y}) \\sigma'(x) $$"
   ]
  },
  {
   "cell_type": "code",
   "execution_count": 25,
   "metadata": {},
   "outputs": [],
   "source": [
    "# TODO: Write the error term formula\n",
    "def error_term_formula(y, output):\n",
    "    return - (y - output)*output*(1-output)"
   ]
  },
  {
   "cell_type": "code",
   "execution_count": 26,
   "metadata": {},
   "outputs": [
    {
     "name": "stdout",
     "output_type": "stream",
     "text": [
      "Epoch: 0\n",
      "Train loss:  0.2900603548146128\n",
      "=========\n",
      "Epoch: 100\n",
      "Train loss:  0.6138064309173407   WARNING - Loss Increasing\n",
      "=========\n",
      "Epoch: 200\n",
      "Train loss:  0.6568637450328259   WARNING - Loss Increasing\n",
      "=========\n",
      "Epoch: 300\n",
      "Train loss:  0.6695561907132372   WARNING - Loss Increasing\n",
      "=========\n",
      "Epoch: 400\n",
      "Train loss:  0.675498938821626   WARNING - Loss Increasing\n",
      "=========\n",
      "Epoch: 500\n",
      "Train loss:  0.6789275882810648   WARNING - Loss Increasing\n",
      "=========\n",
      "Epoch: 600\n",
      "Train loss:  0.6811550972486157   WARNING - Loss Increasing\n",
      "=========\n",
      "Epoch: 700\n",
      "Train loss:  0.6827174999168039   WARNING - Loss Increasing\n",
      "=========\n",
      "Epoch: 800\n",
      "Train loss:  0.6838736750874872   WARNING - Loss Increasing\n",
      "=========\n",
      "Epoch: 900\n",
      "Train loss:  0.6847637455999263   WARNING - Loss Increasing\n",
      "=========\n",
      "Finished training!\n"
     ]
    }
   ],
   "source": [
    "# Neural Network hyperparameters\n",
    "epochs = 1000\n",
    "learnrate = 0.5\n",
    "\n",
    "# Training function\n",
    "def train_nn(features, targets, epochs, learnrate):\n",
    "    \n",
    "    # Use to same seed to make debugging easier\n",
    "    np.random.seed(42)\n",
    "\n",
    "    n_records, n_features = features.shape\n",
    "    last_loss = None\n",
    "\n",
    "    # Initialize weights\n",
    "    weights = np.random.normal(scale=1 / n_features**.5, size=n_features)\n",
    "\n",
    "    for e in range(epochs):\n",
    "        del_w = np.zeros(weights.shape)\n",
    "        for x, y in zip(features.values, targets):\n",
    "            # Loop through all records, x is the input, y is the target\n",
    "\n",
    "            # Activation of the output unit\n",
    "            #   Notice we multiply the inputs and the weights here \n",
    "            #   rather than storing h as a separate variable \n",
    "            output = sigmoid(np.dot(x, weights))\n",
    "\n",
    "            # The error, the target minus the network output\n",
    "            error = error_formula(y, output)\n",
    "\n",
    "            # The error term\n",
    "            #   Notice we calulate f'(h) here instead of defining a separate\n",
    "            #   sigmoid_prime function. This just makes it faster because we\n",
    "            #   can re-use the result of the sigmoid function stored in\n",
    "            #   the output variable\n",
    "            error_term = error_term_formula(y, output)\n",
    "\n",
    "            # The gradient descent step, the error times the gradient times the inputs\n",
    "            del_w += error_term * x\n",
    "\n",
    "        # Update the weights here. The learning rate times the \n",
    "        # change in weights, divided by the number of records to average\n",
    "        weights += learnrate * del_w / n_records\n",
    "\n",
    "        # Printing out the mean square error on the training set\n",
    "        if e % (epochs / 10) == 0:\n",
    "            out = sigmoid(np.dot(features, weights))\n",
    "            loss = np.mean((out - targets) ** 2)\n",
    "            print(\"Epoch:\", e)\n",
    "            if last_loss and last_loss < loss:\n",
    "                print(\"Train loss: \", loss, \"  WARNING - Loss Increasing\")\n",
    "            else:\n",
    "                print(\"Train loss: \", loss)\n",
    "            last_loss = loss\n",
    "            print(\"=========\")\n",
    "    print(\"Finished training!\")\n",
    "    return weights\n",
    "    \n",
    "weights = train_nn(features, targets, epochs, learnrate)"
   ]
  },
  {
   "cell_type": "markdown",
   "metadata": {},
   "source": [
    "## Calculating the Accuracy on the Test Data"
   ]
  },
  {
   "cell_type": "code",
   "execution_count": 27,
   "metadata": {},
   "outputs": [
    {
     "name": "stdout",
     "output_type": "stream",
     "text": [
      "Prediction accuracy: 0.400\n"
     ]
    }
   ],
   "source": [
    "# Calculate accuracy on test data\n",
    "tes_out = sigmoid(np.dot(features_test, weights))\n",
    "predictions = tes_out > 0.5\n",
    "accuracy = np.mean(predictions == targets_test)\n",
    "print(\"Prediction accuracy: {:.3f}\".format(accuracy))"
   ]
  },
  {
   "cell_type": "code",
   "execution_count": 28,
   "metadata": {},
   "outputs": [],
   "source": [
    "# Defining the sigmoid function for activations\n",
    "def sigmoid(x):\n",
    "    return 1/(1+np.exp(-x))\n",
    "\n",
    "# Derivative of the sigmoid function\n",
    "def sigmoid_prime(x):\n",
    "    return sigmoid(x) * (1 - sigmoid(x))\n",
    "\n",
    "# Input data\n",
    "x = np.array([0.1, 0.3])\n",
    "# Target\n",
    "y = 0.2\n",
    "# Input to output weights\n",
    "weights = np.array([-0.8, 0.5])\n",
    "\n",
    "# The learning rate, eta in the weight step equation\n",
    "learnrate = 0.5\n",
    "\n",
    "# the linear combination performed by the node (h in f(h) and f'(h))\n",
    "h = x[0]*weights[0] + x[1]*weights[1]\n",
    "# or h = np.dot(x, weights)\n",
    "\n",
    "# The neural network output (y-hat)\n",
    "nn_output = sigmoid(h)\n",
    "\n",
    "# output error (y - y-hat)\n",
    "error = y - nn_output\n",
    "\n",
    "# output gradient (f'(h))\n",
    "output_grad = sigmoid_prime(h)\n",
    "\n",
    "# error term (lowercase delta)\n",
    "error_term = error * output_grad\n",
    "\n",
    "# Gradient descent step \n",
    "del_w = [ learnrate * error_term * x[0],\n",
    "          learnrate * error_term * x[1]]\n",
    "# or del_w = learnrate * error_term * x"
   ]
  },
  {
   "cell_type": "code",
   "execution_count": 29,
   "metadata": {},
   "outputs": [
    {
     "data": {
      "text/plain": [
       "[-0.003963803079006883, -0.011891409237020648]"
      ]
     },
     "execution_count": 29,
     "metadata": {},
     "output_type": "execute_result"
    }
   ],
   "source": [
    "del_w"
   ]
  },
  {
   "cell_type": "code",
   "execution_count": 31,
   "metadata": {},
   "outputs": [
    {
     "data": {
      "text/plain": [
       "0.5174928576663897"
      ]
     },
     "execution_count": 31,
     "metadata": {},
     "output_type": "execute_result"
    }
   ],
   "source": [
    "# Defining the sigmoid function for activations\n",
    "def sigmoid(x):\n",
    "    return 1/(1+np.exp(-x))\n",
    "\n",
    "# Derivative of the sigmoid function\n",
    "def sigmoid_prime(x):\n",
    "    return sigmoid(x) * (1 - sigmoid(x))\n",
    "\n",
    "# Input data\n",
    "x = np.array([0.1, 0.3])\n",
    "# Target\n",
    "y = 0.2\n",
    "# Input to output weights\n",
    "weights = np.array([-0.8, 0.5])\n",
    "\n",
    "# The learning rate, eta in the weight step equation\n",
    "learnrate = 0.5\n",
    "\n",
    "# the linear combination performed by the node (h in f(h) and f'(h))\n",
    "h = x[0]*weights[0] + x[1]*weights[1]\n",
    "# or h = np.dot(x, weights)\n",
    "\n",
    "# The neural network output (y-hat)\n",
    "nn_output = sigmoid(h)\n",
    "nn_output"
   ]
  },
  {
   "cell_type": "code",
   "execution_count": 23,
   "metadata": {},
   "outputs": [
    {
     "name": "stdout",
     "output_type": "stream",
     "text": [
      "    A   B   C   D\n",
      "0  A0  B0  C0  D0\n",
      "1  A1  B1  C1  D1\n",
      "2  A2  B2  C2  D2\n",
      "3  A3  B3  C3  D3\n",
      "    A   B   C   D\n",
      "4  A4  B4  C4  D4\n",
      "5  A5  B5  C5  D5\n",
      "6  A6  B6  C6  D6\n",
      "7  A7  B7  C7  D7\n",
      "      A    B    C    D\n",
      "8    A8   B8   C8   D8\n",
      "9    A9   B9   C9   D9\n",
      "10  A10  B10  C10  D10\n",
      "11  A11  B11  C11  D11\n"
     ]
    }
   ],
   "source": [
    "In [1]: df1 = pd.DataFrame({'A': ['A0', 'A1', 'A2', 'A3'],\n",
    "   ...:                     'B': ['B0', 'B1', 'B2', 'B3'],\n",
    "   ...:                     'C': ['C0', 'C1', 'C2', 'C3'],\n",
    "   ...:                     'D': ['D0', 'D1', 'D2', 'D3']},\n",
    "   ...:                     index=[0, 1, 2, 3])\n",
    "   ...: \n",
    "\n",
    "In [2]: df2 = pd.DataFrame({'A': ['A4', 'A5', 'A6', 'A7'],\n",
    "   ...:                     'B': ['B4', 'B5', 'B6', 'B7'],\n",
    "   ...:                     'C': ['C4', 'C5', 'C6', 'C7'],\n",
    "   ...:                     'D': ['D4', 'D5', 'D6', 'D7']},\n",
    "   ...:                      index=[4, 5, 6, 7])\n",
    "   ...: \n",
    "\n",
    "In [3]: df3 = pd.DataFrame({'A': ['A8', 'A9', 'A10', 'A11'],\n",
    "   ...:                     'B': ['B8', 'B9', 'B10', 'B11'],\n",
    "   ...:                     'C': ['C8', 'C9', 'C10', 'C11'],\n",
    "   ...:                     'D': ['D8', 'D9', 'D10', 'D11']},\n",
    "   ...:                     index=[8, 9, 10, 11])\n",
    "print(df1)\n",
    "print(df2)\n",
    "print(df3)"
   ]
  },
  {
   "cell_type": "code",
   "execution_count": 28,
   "metadata": {},
   "outputs": [
    {
     "name": "stdout",
     "output_type": "stream",
     "text": [
      "      A    B    C    D    A    B    C    D    A    B    C    D\n",
      "0    A0   B0   C0   D0  NaN  NaN  NaN  NaN  NaN  NaN  NaN  NaN\n",
      "1    A1   B1   C1   D1  NaN  NaN  NaN  NaN  NaN  NaN  NaN  NaN\n",
      "2    A2   B2   C2   D2  NaN  NaN  NaN  NaN  NaN  NaN  NaN  NaN\n",
      "3    A3   B3   C3   D3  NaN  NaN  NaN  NaN  NaN  NaN  NaN  NaN\n",
      "4   NaN  NaN  NaN  NaN   A4   B4   C4   D4  NaN  NaN  NaN  NaN\n",
      "5   NaN  NaN  NaN  NaN   A5   B5   C5   D5  NaN  NaN  NaN  NaN\n",
      "6   NaN  NaN  NaN  NaN   A6   B6   C6   D6  NaN  NaN  NaN  NaN\n",
      "7   NaN  NaN  NaN  NaN   A7   B7   C7   D7  NaN  NaN  NaN  NaN\n",
      "8   NaN  NaN  NaN  NaN  NaN  NaN  NaN  NaN   A8   B8   C8   D8\n",
      "9   NaN  NaN  NaN  NaN  NaN  NaN  NaN  NaN   A9   B9   C9   D9\n",
      "10  NaN  NaN  NaN  NaN  NaN  NaN  NaN  NaN  A10  B10  C10  D10\n",
      "11  NaN  NaN  NaN  NaN  NaN  NaN  NaN  NaN  A11  B11  C11  D11\n"
     ]
    }
   ],
   "source": [
    "rs = pd.concat([df1,df2,df3], axis=1)\n",
    "print(rs)"
   ]
  },
  {
   "cell_type": "code",
   "execution_count": 29,
   "metadata": {},
   "outputs": [
    {
     "data": {
      "text/html": [
       "<div>\n",
       "<style scoped>\n",
       "    .dataframe tbody tr th:only-of-type {\n",
       "        vertical-align: middle;\n",
       "    }\n",
       "\n",
       "    .dataframe tbody tr th {\n",
       "        vertical-align: top;\n",
       "    }\n",
       "\n",
       "    .dataframe thead th {\n",
       "        text-align: right;\n",
       "    }\n",
       "</style>\n",
       "<table border=\"1\" class=\"dataframe\">\n",
       "  <thead>\n",
       "    <tr style=\"text-align: right;\">\n",
       "      <th></th>\n",
       "      <th>admit</th>\n",
       "      <th>gre</th>\n",
       "      <th>gpa</th>\n",
       "      <th>rank_1</th>\n",
       "      <th>rank_2</th>\n",
       "      <th>rank_3</th>\n",
       "      <th>rank_4</th>\n",
       "    </tr>\n",
       "  </thead>\n",
       "  <tbody>\n",
       "    <tr>\n",
       "      <th>0</th>\n",
       "      <td>0</td>\n",
       "      <td>0.475</td>\n",
       "      <td>0.9025</td>\n",
       "      <td>0</td>\n",
       "      <td>0</td>\n",
       "      <td>1</td>\n",
       "      <td>0</td>\n",
       "    </tr>\n",
       "    <tr>\n",
       "      <th>1</th>\n",
       "      <td>1</td>\n",
       "      <td>0.825</td>\n",
       "      <td>0.9175</td>\n",
       "      <td>0</td>\n",
       "      <td>0</td>\n",
       "      <td>1</td>\n",
       "      <td>0</td>\n",
       "    </tr>\n",
       "    <tr>\n",
       "      <th>2</th>\n",
       "      <td>1</td>\n",
       "      <td>1.000</td>\n",
       "      <td>1.0000</td>\n",
       "      <td>1</td>\n",
       "      <td>0</td>\n",
       "      <td>0</td>\n",
       "      <td>0</td>\n",
       "    </tr>\n",
       "    <tr>\n",
       "      <th>3</th>\n",
       "      <td>1</td>\n",
       "      <td>0.800</td>\n",
       "      <td>0.7975</td>\n",
       "      <td>0</td>\n",
       "      <td>0</td>\n",
       "      <td>0</td>\n",
       "      <td>1</td>\n",
       "    </tr>\n",
       "    <tr>\n",
       "      <th>4</th>\n",
       "      <td>0</td>\n",
       "      <td>0.650</td>\n",
       "      <td>0.7325</td>\n",
       "      <td>0</td>\n",
       "      <td>0</td>\n",
       "      <td>0</td>\n",
       "      <td>1</td>\n",
       "    </tr>\n",
       "    <tr>\n",
       "      <th>5</th>\n",
       "      <td>1</td>\n",
       "      <td>0.950</td>\n",
       "      <td>0.7500</td>\n",
       "      <td>0</td>\n",
       "      <td>1</td>\n",
       "      <td>0</td>\n",
       "      <td>0</td>\n",
       "    </tr>\n",
       "    <tr>\n",
       "      <th>6</th>\n",
       "      <td>1</td>\n",
       "      <td>0.700</td>\n",
       "      <td>0.7450</td>\n",
       "      <td>1</td>\n",
       "      <td>0</td>\n",
       "      <td>0</td>\n",
       "      <td>0</td>\n",
       "    </tr>\n",
       "    <tr>\n",
       "      <th>7</th>\n",
       "      <td>0</td>\n",
       "      <td>0.500</td>\n",
       "      <td>0.7700</td>\n",
       "      <td>0</td>\n",
       "      <td>1</td>\n",
       "      <td>0</td>\n",
       "      <td>0</td>\n",
       "    </tr>\n",
       "    <tr>\n",
       "      <th>8</th>\n",
       "      <td>1</td>\n",
       "      <td>0.675</td>\n",
       "      <td>0.8475</td>\n",
       "      <td>0</td>\n",
       "      <td>0</td>\n",
       "      <td>1</td>\n",
       "      <td>0</td>\n",
       "    </tr>\n",
       "    <tr>\n",
       "      <th>9</th>\n",
       "      <td>0</td>\n",
       "      <td>0.875</td>\n",
       "      <td>0.9800</td>\n",
       "      <td>0</td>\n",
       "      <td>1</td>\n",
       "      <td>0</td>\n",
       "      <td>0</td>\n",
       "    </tr>\n",
       "  </tbody>\n",
       "</table>\n",
       "</div>"
      ],
      "text/plain": [
       "   admit    gre     gpa  rank_1  rank_2  rank_3  rank_4\n",
       "0      0  0.475  0.9025       0       0       1       0\n",
       "1      1  0.825  0.9175       0       0       1       0\n",
       "2      1  1.000  1.0000       1       0       0       0\n",
       "3      1  0.800  0.7975       0       0       0       1\n",
       "4      0  0.650  0.7325       0       0       0       1\n",
       "5      1  0.950  0.7500       0       1       0       0\n",
       "6      1  0.700  0.7450       1       0       0       0\n",
       "7      0  0.500  0.7700       0       1       0       0\n",
       "8      1  0.675  0.8475       0       0       1       0\n",
       "9      0  0.875  0.9800       0       1       0       0"
      ]
     },
     "execution_count": 29,
     "metadata": {},
     "output_type": "execute_result"
    }
   ],
   "source": [
    "processed_data[:10]"
   ]
  },
  {
   "cell_type": "code",
   "execution_count": 31,
   "metadata": {},
   "outputs": [
    {
     "name": "stdout",
     "output_type": "stream",
     "text": [
      "RangeIndex(start=0, stop=400, step=1)\n"
     ]
    }
   ],
   "source": [
    "print(processed_data.index)"
   ]
  },
  {
   "cell_type": "code",
   "execution_count": 32,
   "metadata": {},
   "outputs": [
    {
     "data": {
      "text/html": [
       "<div>\n",
       "<style scoped>\n",
       "    .dataframe tbody tr th:only-of-type {\n",
       "        vertical-align: middle;\n",
       "    }\n",
       "\n",
       "    .dataframe tbody tr th {\n",
       "        vertical-align: top;\n",
       "    }\n",
       "\n",
       "    .dataframe thead th {\n",
       "        text-align: right;\n",
       "    }\n",
       "</style>\n",
       "<table border=\"1\" class=\"dataframe\">\n",
       "  <thead>\n",
       "    <tr style=\"text-align: right;\">\n",
       "      <th></th>\n",
       "      <th>admit</th>\n",
       "      <th>gre</th>\n",
       "      <th>gpa</th>\n",
       "      <th>rank_1</th>\n",
       "      <th>rank_2</th>\n",
       "      <th>rank_3</th>\n",
       "      <th>rank_4</th>\n",
       "    </tr>\n",
       "  </thead>\n",
       "  <tbody>\n",
       "    <tr>\n",
       "      <th>0</th>\n",
       "      <td>0</td>\n",
       "      <td>0.475</td>\n",
       "      <td>0.9025</td>\n",
       "      <td>0</td>\n",
       "      <td>0</td>\n",
       "      <td>1</td>\n",
       "      <td>0</td>\n",
       "    </tr>\n",
       "    <tr>\n",
       "      <th>1</th>\n",
       "      <td>1</td>\n",
       "      <td>0.825</td>\n",
       "      <td>0.9175</td>\n",
       "      <td>0</td>\n",
       "      <td>0</td>\n",
       "      <td>1</td>\n",
       "      <td>0</td>\n",
       "    </tr>\n",
       "    <tr>\n",
       "      <th>2</th>\n",
       "      <td>1</td>\n",
       "      <td>1.000</td>\n",
       "      <td>1.0000</td>\n",
       "      <td>1</td>\n",
       "      <td>0</td>\n",
       "      <td>0</td>\n",
       "      <td>0</td>\n",
       "    </tr>\n",
       "  </tbody>\n",
       "</table>\n",
       "</div>"
      ],
      "text/plain": [
       "   admit    gre     gpa  rank_1  rank_2  rank_3  rank_4\n",
       "0      0  0.475  0.9025       0       0       1       0\n",
       "1      1  0.825  0.9175       0       0       1       0\n",
       "2      1  1.000  1.0000       1       0       0       0"
      ]
     },
     "execution_count": 32,
     "metadata": {},
     "output_type": "execute_result"
    }
   ],
   "source": [
    "processed_data[0:3]"
   ]
  },
  {
   "cell_type": "code",
   "execution_count": 34,
   "metadata": {},
   "outputs": [
    {
     "data": {
      "text/plain": [
       "array([4, 0, 0])"
      ]
     },
     "execution_count": 34,
     "metadata": {},
     "output_type": "execute_result"
    }
   ],
   "source": [
    "a = np.random.choice(5,3)\n",
    "a"
   ]
  },
  {
   "cell_type": "code",
   "execution_count": 37,
   "metadata": {},
   "outputs": [
    {
     "data": {
      "text/plain": [
       "array([0, 1, 2, 3, 4, 5, 6, 7, 8, 9])"
      ]
     },
     "execution_count": 37,
     "metadata": {},
     "output_type": "execute_result"
    }
   ],
   "source": [
    "a = np.arange(10)\n",
    "a"
   ]
  },
  {
   "cell_type": "code",
   "execution_count": 39,
   "metadata": {},
   "outputs": [
    {
     "name": "stdout",
     "output_type": "stream",
     "text": [
      "       gre     gpa  rank_1  rank_2  rank_3  rank_4\n",
      "344  0.650  0.8375       0       0       1       0\n",
      "347  0.725  0.9500       0       1       0       0\n",
      "128  0.675  0.7975       0       1       0       0\n",
      "103  0.675  0.9850       0       0       1       0\n",
      "253  0.675  0.8875       0       0       0       1\n",
      "52   0.925  0.8425       0       0       0       1\n",
      "89   0.825  1.0000       0       1       0       0\n",
      "82   0.625  0.6775       0       1       0       0\n",
      "72   0.600  0.8475       0       0       0       1\n",
      "0    0.475  0.9025       0       0       1       0\n",
      "90   0.875  0.9575       0       1       0       0\n",
      "224  1.000  0.7250       0       1       0       0\n",
      "268  0.850  0.8650       0       1       0       0\n",
      "196  0.825  0.7675       0       0       1       0\n",
      "348  0.500  0.8400       0       1       0       0\n",
      "127  0.925  0.9350       0       0       0       1\n",
      "332  0.525  0.7400       1       0       0       0\n",
      "139  0.750  0.8950       1       0       0       0\n",
      "338  0.675  0.8000       1       0       0       0\n",
      "212  0.575  0.7175       0       1       0       0\n",
      "398  0.875  0.9125       0       1       0       0\n",
      "194  0.750  0.8675       0       1       0       0\n",
      "350  0.975  1.0000       0       1       0       0\n",
      "306  0.675  0.7925       1       0       0       0\n",
      "207  0.800  0.9075       1       0       0       0\n",
      "187  0.725  0.7200       0       1       0       0\n",
      "204  0.750  0.9725       1       0       0       0\n",
      "270  0.800  0.9875       0       1       0       0\n",
      "93   0.725  0.7325       0       1       0       0\n",
      "105  0.925  0.7425       0       1       0       0\n",
      "..     ...     ...     ...     ...     ...     ...\n",
      "307  0.725  0.8775       0       1       0       0\n",
      "100  0.425  0.7875       0       0       1       0\n",
      "40   0.700  0.6050       0       1       0       0\n",
      "138  0.775  0.8500       0       1       0       0\n",
      "14   0.875  1.0000       1       0       0       0\n",
      "369  1.000  0.9725       0       1       0       0\n",
      "327  0.700  0.8700       0       1       0       0\n",
      "133  0.625  0.7700       0       0       1       0\n",
      "66   0.925  0.9050       0       0       0       1\n",
      "278  0.850  0.7500       0       0       0       1\n",
      "81   0.775  0.7675       0       1       0       0\n",
      "197  0.500  0.8075       0       0       0       1\n",
      "316  0.425  0.7500       0       1       0       0\n",
      "70   0.800  1.0000       0       0       1       0\n",
      "119  0.425  0.7300       0       0       1       0\n",
      "154  0.775  0.9225       0       0       1       0\n",
      "231  0.750  0.8200       0       0       1       0\n",
      "190  0.800  0.7350       0       1       0       0\n",
      "136  0.700  0.8325       0       0       0       1\n",
      "301  0.825  0.9000       0       0       1       0\n",
      "385  0.525  0.7550       1       0       0       0\n",
      "279  0.825  0.7850       0       1       0       0\n",
      "359  0.900  0.9850       0       0       1       0\n",
      "393  0.775  0.9375       0       1       0       0\n",
      "285  0.750  0.8275       0       0       0       1\n",
      "63   0.850  0.9625       0       0       1       0\n",
      "189  0.625  0.8375       0       1       0       0\n",
      "396  0.700  0.7600       0       0       1       0\n",
      "218  0.575  0.7450       1       0       0       0\n",
      "232  0.475  0.8450       0       1       0       0\n",
      "\n",
      "[360 rows x 6 columns]\n",
      "344    0\n",
      "347    0\n",
      "128    0\n",
      "103    0\n",
      "253    1\n",
      "52     0\n",
      "89     1\n",
      "82     0\n",
      "72     0\n",
      "0      0\n",
      "90     0\n",
      "224    0\n",
      "268    1\n",
      "196    0\n",
      "348    0\n",
      "127    0\n",
      "332    0\n",
      "139    1\n",
      "338    0\n",
      "212    0\n",
      "398    0\n",
      "194    1\n",
      "350    1\n",
      "306    1\n",
      "207    1\n",
      "187    0\n",
      "204    1\n",
      "270    1\n",
      "93     0\n",
      "105    1\n",
      "      ..\n",
      "307    0\n",
      "100    0\n",
      "40     0\n",
      "138    0\n",
      "14     1\n",
      "369    0\n",
      "327    1\n",
      "133    0\n",
      "66     0\n",
      "278    1\n",
      "81     0\n",
      "197    1\n",
      "316    1\n",
      "70     0\n",
      "119    0\n",
      "154    0\n",
      "231    0\n",
      "190    1\n",
      "136    0\n",
      "301    1\n",
      "385    0\n",
      "279    1\n",
      "359    0\n",
      "393    1\n",
      "285    0\n",
      "63     1\n",
      "189    0\n",
      "396    0\n",
      "218    0\n",
      "232    0\n",
      "Name: admit, Length: 360, dtype: int64\n"
     ]
    }
   ],
   "source": [
    "print(features)\n",
    "print(targets)"
   ]
  },
  {
   "cell_type": "code",
   "execution_count": 80,
   "metadata": {},
   "outputs": [
    {
     "name": "stdout",
     "output_type": "stream",
     "text": [
      "-2.3025850929940455\n",
      "-2.8134107167600364\n",
      "-5.115995809754082\n"
     ]
    }
   ],
   "source": [
    "yy = [0,0,1]\n",
    "pp = [0.8,0.7,0.1]\n",
    "print(np.dot(yy, np.log(pp)))\n",
    "print(np.dot(np.subtract(1, yy), np.log(np.subtract(1, pp))))\n",
    "ce = np.dot(yy, np.log(pp)) + np.dot(np.subtract(1, yy), np.log(np.subtract(1, pp)))\n",
    "print(ce)\n"
   ]
  },
  {
   "cell_type": "code",
   "execution_count": 77,
   "metadata": {},
   "outputs": [
    {
     "name": "stdout",
     "output_type": "stream",
     "text": [
      "-2.8824035882469876\n"
     ]
    }
   ],
   "source": [
    "print(np.log(0.056))"
   ]
  },
  {
   "cell_type": "code",
   "execution_count": 2,
   "metadata": {},
   "outputs": [
    {
     "name": "stdout",
     "output_type": "stream",
     "text": [
      "[-0.17104216  0.74546609  0.55349656  2.27084022  0.18352514 -0.66392922\n",
      " -0.06499599  1.26453443  0.05383762 -2.12582998 -2.11407348 -0.1066639\n",
      " -1.36611096 -0.22857434 -0.22042949  0.76959383  0.55695173 -0.76817084\n",
      " -0.78947331  1.00784347 -0.44388559  0.35925578  0.4031754  -1.63161399\n",
      " -1.30697576 -0.80188971  0.20155187  0.67503457 -1.23005246 -0.11542996\n",
      "  0.19538701  0.18095399 -0.52439072  0.65650434  0.84028407  0.96886357\n",
      " -0.46635352 -0.68191062  0.1995166  -1.72159119 -0.86485595  1.0666692\n",
      " -0.41307689 -0.84279535 -1.39454805  0.99460697  1.14334671  0.22758242\n",
      "  0.3518841  -0.93888688  1.12236397 -1.25028207 -0.36173802  0.4870036\n",
      " -0.20195626 -0.345715   -1.23760446  0.01410165  0.30002268  1.00324797\n",
      " -0.34648115  1.72167882 -0.16587234 -3.02373262 -0.38935923  0.34614682\n",
      "  1.11902348 -0.33488329  0.04016811  0.04423986  0.4922198   0.13798639\n",
      " -0.47656908 -0.67783972 -0.87001217 -0.25308865  0.09440482  1.51898286\n",
      "  1.08967043  1.33387156  0.03364392  0.03780261  0.41113095  1.60298185\n",
      " -0.06123474  0.51969288  2.05875764  0.76688995 -1.13310052  0.15801072\n",
      " -0.55796402  0.60877405 -0.35522472 -1.4434377   0.16237323  1.36972301\n",
      "  0.47199688 -0.58420671  0.273871   -0.46270516]\n"
     ]
    }
   ],
   "source": [
    "import numpy as np\n",
    "a = np.random.normal(0.0, 1.0, 100)\n",
    "print(a)"
   ]
  },
  {
   "cell_type": "code",
   "execution_count": 5,
   "metadata": {},
   "outputs": [
    {
     "data": {
      "image/png": "[encoded data removed]",
      "text/plain": [
       "<Figure size 432x288 with 1 Axes>"
      ]
     },
     "metadata": {},
     "output_type": "display_data"
    }
   ],
   "source": [
    "import matplotlib.pyplot as plt\n",
    "plt.plot(a)\n",
    "plt.show()"
   ]
  },
  {
   "cell_type": "code",
   "execution_count": 6,
   "metadata": {},
   "outputs": [
    {
     "name": "stdout",
     "output_type": "stream",
     "text": [
      "[[0.4]]\n"
     ]
    }
   ],
   "source": [
    "targets = np.array([[0.4]])\n",
    "print(targets)"
   ]
  },
  {
   "cell_type": "code",
   "execution_count": 10,
   "metadata": {},
   "outputs": [
    {
     "name": "stdout",
     "output_type": "stream",
     "text": [
      "[[ 0.1 -0.2]\n",
      " [ 0.4  0.5]\n",
      " [-0.3  0.2]]\n",
      "[[ 0.3]\n",
      " [-0.1]]\n"
     ]
    }
   ],
   "source": [
    "inputs = np.array([[0.5, -0.2, 0.1]])\n",
    "test_w_i_h = np.array([[0.1, -0.2],\n",
    "                       [0.4, 0.5],\n",
    "                       [-0.3, 0.2]])\n",
    "test_w_h_o = np.array([[0.3],\n",
    "                       [-0.1]])\n",
    "print(test_w_i_h)\n",
    "print(test_w_h_o)"
   ]
  },
  {
   "cell_type": "code",
   "execution_count": null,
   "metadata": {},
   "outputs": [],
   "source": []
  }
 ],
 "metadata": {
  "kernelspec": {
   "display_name": "Python [default]",
   "language": "python",
   "name": "python3"
  },
  "language_info": {
   "codemirror_mode": {
    "name": "ipython",
    "version": 3
   },
   "file_extension": ".py",
   "mimetype": "text/x-python",
   "name": "python",
   "nbconvert_exporter": "python",
   "pygments_lexer": "ipython3",
   "version": "3.6.5"
  }
 },
 "nbformat": 4,
 "nbformat_minor": 2
}
