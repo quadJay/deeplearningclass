{
 "cells": [
  {
   "cell_type": "code",
   "execution_count": 1,
   "metadata": {},
   "outputs": [],
   "source": [
    "import numpy as np\n",
    "# Setting the random seed, feel free to change it and see different solutions.\n",
    "np.random.seed(42)\n",
    "\n",
    "def stepFunction(t):\n",
    "    if t >= 0:\n",
    "        return 1\n",
    "    return 0\n",
    "\n",
    "def prediction(X, W, b):\n",
    "    return stepFunction((np.matmul(X,W)+b)[0])\n",
    "\n",
    "# TODO: Fill in the code below to implement the perceptron trick.\n",
    "# The function should receive as inputs the data X, the labels y,\n",
    "# the weights W (as an array), and the bias b,\n",
    "# update the weights and bias W, b, according to the perceptron algorithm,\n",
    "# and return W and b.\n",
    "def perceptronStep(X, y, W, b, learn_rate = 0.01):\n",
    "    for i in range(len(X)):\n",
    "        y_hat = prediction(X[i],W,b)\n",
    "        if y[i]-y_hat == 1:\n",
    "            W[0] += X[i][0]*learn_rate\n",
    "            W[1] += X[i][1]*learn_rate\n",
    "            b += learn_rate\n",
    "        elif y[i]-y_hat == -1:\n",
    "            W[0] -= X[i][0]*learn_rate\n",
    "            W[1] -= X[i][1]*learn_rate\n",
    "            b -= learn_rate\n",
    "    return W, b\n",
    "    \n",
    "# This function runs the perceptron algorithm repeatedly on the dataset,\n",
    "# and returns a few of the boundary lines obtained in the iterations,\n",
    "# for plotting purposes.\n",
    "# Feel free to play with the learning rate and the num_epochs,\n",
    "# and see your results plotted below.\n",
    "def trainPerceptronAlgorithm(X, y, learn_rate = 0.01, num_epochs = 25):\n",
    "    x_min, x_max = min(X.T[0]), max(X.T[0])\n",
    "    y_min, y_max = min(X.T[1]), max(X.T[1])\n",
    "    W = np.array(np.random.rand(2,1))\n",
    "    b = np.random.rand(1)[0] + x_max\n",
    "    # These are the solution lines that get plotted below.\n",
    "    boundary_lines = []\n",
    "    for i in range(num_epochs):\n",
    "        # In each epoch, we apply the perceptron step.\n",
    "        W, b = perceptronStep(X, y, W, b, learn_rate)\n",
    "        boundary_lines.append((-W[0]/W[1], -b/W[1]))\n",
    "    return boundary_lines\n"
   ]
  },
  {
   "cell_type": "code",
   "execution_count": 3,
   "metadata": {},
   "outputs": [
    {
     "ename": "SyntaxError",
     "evalue": "invalid syntax (<ipython-input-3-04c0daa50ae9>, line 3)",
     "output_type": "error",
     "traceback": [
      "\u001b[1;36m  File \u001b[1;32m\"<ipython-input-3-04c0daa50ae9>\"\u001b[1;36m, line \u001b[1;32m3\u001b[0m\n\u001b[1;33m    0.28774,0.29139,1\u001b[0m\n\u001b[1;37m          ^\u001b[0m\n\u001b[1;31mSyntaxError\u001b[0m\u001b[1;31m:\u001b[0m invalid syntax\n"
     ]
    }
   ],
   "source": [
    "0.78051,-0.063669,1\n",
    "0.28774,0.29139,1\n",
    "0.40714,0.17878,1\n",
    "0.2923,0.4217,1\n",
    "0.50922,0.35256,1\n",
    "0.27785,0.10802,1\n",
    "0.27527,0.33223,1\n",
    "0.43999,0.31245,1\n",
    "0.33557,0.42984,1\n",
    "0.23448,0.24986,1\n",
    "0.0084492,0.13658,1\n",
    "0.12419,0.33595,1\n",
    "0.25644,0.42624,1\n",
    "0.4591,0.40426,1\n",
    "0.44547,0.45117,1\n",
    "0.42218,0.20118,1\n",
    "0.49563,0.21445,1\n",
    "0.30848,0.24306,1\n",
    "0.39707,0.44438,1\n",
    "0.32945,0.39217,1\n",
    "0.40739,0.40271,1\n",
    "0.3106,0.50702,1\n",
    "0.49638,0.45384,1\n",
    "0.10073,0.32053,1\n",
    "0.69907,0.37307,1\n",
    "0.29767,0.69648,1\n",
    "0.15099,0.57341,1\n",
    "0.16427,0.27759,1\n",
    "0.33259,0.055964,1\n",
    "0.53741,0.28637,1\n",
    "0.19503,0.36879,1\n",
    "0.40278,0.035148,1\n",
    "0.21296,0.55169,1\n",
    "0.48447,0.56991,1\n",
    "0.25476,0.34596,1\n",
    "0.21726,0.28641,1\n",
    "0.67078,0.46538,1\n",
    "0.3815,0.4622,1\n",
    "0.53838,0.32774,1\n",
    "0.4849,0.26071,1\n",
    "0.37095,0.38809,1\n",
    "0.54527,0.63911,1\n",
    "0.32149,0.12007,1\n",
    "0.42216,0.61666,1\n",
    "0.10194,0.060408,1\n",
    "0.15254,0.2168,1\n",
    "0.45558,0.43769,1\n",
    "0.28488,0.52142,1\n",
    "0.27633,0.21264,1\n",
    "0.39748,0.31902,1\n",
    "0.5533,1,0\n",
    "0.44274,0.59205,0\n",
    "0.85176,0.6612,0\n",
    "0.60436,0.86605,0\n",
    "0.68243,0.48301,0\n",
    "1,0.76815,0\n",
    "0.72989,0.8107,0\n",
    "0.67377,0.77975,0\n",
    "0.78761,0.58177,0\n",
    "0.71442,0.7668,0\n",
    "0.49379,0.54226,0\n",
    "0.78974,0.74233,0\n",
    "0.67905,0.60921,0\n",
    "0.6642,0.72519,0\n",
    "0.79396,0.56789,0\n",
    "0.70758,0.76022,0\n",
    "0.59421,0.61857,0\n",
    "0.49364,0.56224,0\n",
    "0.77707,0.35025,0\n",
    "0.79785,0.76921,0\n",
    "0.70876,0.96764,0\n",
    "0.69176,0.60865,0\n",
    "0.66408,0.92075,0\n",
    "0.65973,0.66666,0\n",
    "0.64574,0.56845,0\n",
    "0.89639,0.7085,0\n",
    "0.85476,0.63167,0\n",
    "0.62091,0.80424,0\n",
    "0.79057,0.56108,0\n",
    "0.58935,0.71582,0\n",
    "0.56846,0.7406,0\n",
    "0.65912,0.71548,0\n",
    "0.70938,0.74041,0\n",
    "0.59154,0.62927,0\n",
    "0.45829,0.4641,0\n",
    "0.79982,0.74847,0\n",
    "0.60974,0.54757,0\n",
    "0.68127,0.86985,0\n",
    "0.76694,0.64736,0\n",
    "0.69048,0.83058,0\n",
    "0.68122,0.96541,0\n",
    "0.73229,0.64245,0\n",
    "0.76145,0.60138,0\n",
    "0.58985,0.86955,0\n",
    "0.73145,0.74516,0\n",
    "0.77029,0.7014,0\n",
    "0.73156,0.71782,0\n",
    "0.44556,0.57991,0\n",
    "0.85275,0.85987,0\n",
    "0.51912,0.62359,0\n"
   ]
  },
  {
   "cell_type": "code",
   "execution_count": 4,
   "metadata": {},
   "outputs": [
    {
     "ename": "AttributeError",
     "evalue": "'list' object has no attribute 'T'",
     "output_type": "error",
     "traceback": [
      "\u001b[1;31m---------------------------------------------------------------------------\u001b[0m",
      "\u001b[1;31mAttributeError\u001b[0m                            Traceback (most recent call last)",
      "\u001b[1;32m<ipython-input-4-7e04d6a15ee5>\u001b[0m in \u001b[0;36m<module>\u001b[1;34m()\u001b[0m\n\u001b[1;32m----> 1\u001b[1;33m \u001b[0mtrainPerceptronAlgorithm\u001b[0m\u001b[1;33m(\u001b[0m\u001b[1;33m[\u001b[0m\u001b[1;36m0.78051\u001b[0m\u001b[1;33m,\u001b[0m\u001b[1;33m-\u001b[0m\u001b[1;36m0.063669\u001b[0m\u001b[1;33m]\u001b[0m\u001b[1;33m,\u001b[0m \u001b[1;36m1\u001b[0m\u001b[1;33m)\u001b[0m\u001b[1;33m\u001b[0m\u001b[0m\n\u001b[0m",
      "\u001b[1;32m<ipython-input-1-99048f47a03a>\u001b[0m in \u001b[0;36mtrainPerceptronAlgorithm\u001b[1;34m(X, y, learn_rate, num_epochs)\u001b[0m\n\u001b[0;32m     26\u001b[0m \u001b[1;31m# and see your results plotted below.\u001b[0m\u001b[1;33m\u001b[0m\u001b[1;33m\u001b[0m\u001b[0m\n\u001b[0;32m     27\u001b[0m \u001b[1;32mdef\u001b[0m \u001b[0mtrainPerceptronAlgorithm\u001b[0m\u001b[1;33m(\u001b[0m\u001b[0mX\u001b[0m\u001b[1;33m,\u001b[0m \u001b[0my\u001b[0m\u001b[1;33m,\u001b[0m \u001b[0mlearn_rate\u001b[0m \u001b[1;33m=\u001b[0m \u001b[1;36m0.01\u001b[0m\u001b[1;33m,\u001b[0m \u001b[0mnum_epochs\u001b[0m \u001b[1;33m=\u001b[0m \u001b[1;36m25\u001b[0m\u001b[1;33m)\u001b[0m\u001b[1;33m:\u001b[0m\u001b[1;33m\u001b[0m\u001b[0m\n\u001b[1;32m---> 28\u001b[1;33m     \u001b[0mx_min\u001b[0m\u001b[1;33m,\u001b[0m \u001b[0mx_max\u001b[0m \u001b[1;33m=\u001b[0m \u001b[0mmin\u001b[0m\u001b[1;33m(\u001b[0m\u001b[0mX\u001b[0m\u001b[1;33m.\u001b[0m\u001b[0mT\u001b[0m\u001b[1;33m[\u001b[0m\u001b[1;36m0\u001b[0m\u001b[1;33m]\u001b[0m\u001b[1;33m)\u001b[0m\u001b[1;33m,\u001b[0m \u001b[0mmax\u001b[0m\u001b[1;33m(\u001b[0m\u001b[0mX\u001b[0m\u001b[1;33m.\u001b[0m\u001b[0mT\u001b[0m\u001b[1;33m[\u001b[0m\u001b[1;36m0\u001b[0m\u001b[1;33m]\u001b[0m\u001b[1;33m)\u001b[0m\u001b[1;33m\u001b[0m\u001b[0m\n\u001b[0m\u001b[0;32m     29\u001b[0m     \u001b[0my_min\u001b[0m\u001b[1;33m,\u001b[0m \u001b[0my_max\u001b[0m \u001b[1;33m=\u001b[0m \u001b[0mmin\u001b[0m\u001b[1;33m(\u001b[0m\u001b[0mX\u001b[0m\u001b[1;33m.\u001b[0m\u001b[0mT\u001b[0m\u001b[1;33m[\u001b[0m\u001b[1;36m1\u001b[0m\u001b[1;33m]\u001b[0m\u001b[1;33m)\u001b[0m\u001b[1;33m,\u001b[0m \u001b[0mmax\u001b[0m\u001b[1;33m(\u001b[0m\u001b[0mX\u001b[0m\u001b[1;33m.\u001b[0m\u001b[0mT\u001b[0m\u001b[1;33m[\u001b[0m\u001b[1;36m1\u001b[0m\u001b[1;33m]\u001b[0m\u001b[1;33m)\u001b[0m\u001b[1;33m\u001b[0m\u001b[0m\n\u001b[0;32m     30\u001b[0m     \u001b[0mW\u001b[0m \u001b[1;33m=\u001b[0m \u001b[0mnp\u001b[0m\u001b[1;33m.\u001b[0m\u001b[0marray\u001b[0m\u001b[1;33m(\u001b[0m\u001b[0mnp\u001b[0m\u001b[1;33m.\u001b[0m\u001b[0mrandom\u001b[0m\u001b[1;33m.\u001b[0m\u001b[0mrand\u001b[0m\u001b[1;33m(\u001b[0m\u001b[1;36m2\u001b[0m\u001b[1;33m,\u001b[0m\u001b[1;36m1\u001b[0m\u001b[1;33m)\u001b[0m\u001b[1;33m)\u001b[0m\u001b[1;33m\u001b[0m\u001b[0m\n",
      "\u001b[1;31mAttributeError\u001b[0m: 'list' object has no attribute 'T'"
     ]
    }
   ],
   "source": [
    "trainPerceptronAlgorithm([0.78051,-0.063669], 1)"
   ]
  },
  {
   "cell_type": "code",
   "execution_count": 5,
   "metadata": {},
   "outputs": [
    {
     "ename": "AttributeError",
     "evalue": "'list' object has no attribute 'T'",
     "output_type": "error",
     "traceback": [
      "\u001b[1;31m---------------------------------------------------------------------------\u001b[0m",
      "\u001b[1;31mAttributeError\u001b[0m                            Traceback (most recent call last)",
      "\u001b[1;32m<ipython-input-5-91b8b3c62af1>\u001b[0m in \u001b[0;36m<module>\u001b[1;34m()\u001b[0m\n\u001b[0;32m      1\u001b[0m \u001b[0mX\u001b[0m \u001b[1;33m=\u001b[0m \u001b[1;33m[\u001b[0m\u001b[1;36m0.78051\u001b[0m\u001b[1;33m,\u001b[0m\u001b[1;33m-\u001b[0m\u001b[1;36m0.063669\u001b[0m\u001b[1;33m,\u001b[0m\u001b[1;36m1\u001b[0m\u001b[1;33m]\u001b[0m\u001b[1;33m\u001b[0m\u001b[0m\n\u001b[0;32m      2\u001b[0m \u001b[0my\u001b[0m \u001b[1;33m=\u001b[0m \u001b[1;36m1\u001b[0m\u001b[1;33m\u001b[0m\u001b[0m\n\u001b[1;32m----> 3\u001b[1;33m \u001b[0mtrainPerceptronAlgorithm\u001b[0m\u001b[1;33m(\u001b[0m\u001b[0mX\u001b[0m\u001b[1;33m,\u001b[0m\u001b[0my\u001b[0m\u001b[1;33m)\u001b[0m\u001b[1;33m\u001b[0m\u001b[0m\n\u001b[0m",
      "\u001b[1;32m<ipython-input-1-99048f47a03a>\u001b[0m in \u001b[0;36mtrainPerceptronAlgorithm\u001b[1;34m(X, y, learn_rate, num_epochs)\u001b[0m\n\u001b[0;32m     26\u001b[0m \u001b[1;31m# and see your results plotted below.\u001b[0m\u001b[1;33m\u001b[0m\u001b[1;33m\u001b[0m\u001b[0m\n\u001b[0;32m     27\u001b[0m \u001b[1;32mdef\u001b[0m \u001b[0mtrainPerceptronAlgorithm\u001b[0m\u001b[1;33m(\u001b[0m\u001b[0mX\u001b[0m\u001b[1;33m,\u001b[0m \u001b[0my\u001b[0m\u001b[1;33m,\u001b[0m \u001b[0mlearn_rate\u001b[0m \u001b[1;33m=\u001b[0m \u001b[1;36m0.01\u001b[0m\u001b[1;33m,\u001b[0m \u001b[0mnum_epochs\u001b[0m \u001b[1;33m=\u001b[0m \u001b[1;36m25\u001b[0m\u001b[1;33m)\u001b[0m\u001b[1;33m:\u001b[0m\u001b[1;33m\u001b[0m\u001b[0m\n\u001b[1;32m---> 28\u001b[1;33m     \u001b[0mx_min\u001b[0m\u001b[1;33m,\u001b[0m \u001b[0mx_max\u001b[0m \u001b[1;33m=\u001b[0m \u001b[0mmin\u001b[0m\u001b[1;33m(\u001b[0m\u001b[0mX\u001b[0m\u001b[1;33m.\u001b[0m\u001b[0mT\u001b[0m\u001b[1;33m[\u001b[0m\u001b[1;36m0\u001b[0m\u001b[1;33m]\u001b[0m\u001b[1;33m)\u001b[0m\u001b[1;33m,\u001b[0m \u001b[0mmax\u001b[0m\u001b[1;33m(\u001b[0m\u001b[0mX\u001b[0m\u001b[1;33m.\u001b[0m\u001b[0mT\u001b[0m\u001b[1;33m[\u001b[0m\u001b[1;36m0\u001b[0m\u001b[1;33m]\u001b[0m\u001b[1;33m)\u001b[0m\u001b[1;33m\u001b[0m\u001b[0m\n\u001b[0m\u001b[0;32m     29\u001b[0m     \u001b[0my_min\u001b[0m\u001b[1;33m,\u001b[0m \u001b[0my_max\u001b[0m \u001b[1;33m=\u001b[0m \u001b[0mmin\u001b[0m\u001b[1;33m(\u001b[0m\u001b[0mX\u001b[0m\u001b[1;33m.\u001b[0m\u001b[0mT\u001b[0m\u001b[1;33m[\u001b[0m\u001b[1;36m1\u001b[0m\u001b[1;33m]\u001b[0m\u001b[1;33m)\u001b[0m\u001b[1;33m,\u001b[0m \u001b[0mmax\u001b[0m\u001b[1;33m(\u001b[0m\u001b[0mX\u001b[0m\u001b[1;33m.\u001b[0m\u001b[0mT\u001b[0m\u001b[1;33m[\u001b[0m\u001b[1;36m1\u001b[0m\u001b[1;33m]\u001b[0m\u001b[1;33m)\u001b[0m\u001b[1;33m\u001b[0m\u001b[0m\n\u001b[0;32m     30\u001b[0m     \u001b[0mW\u001b[0m \u001b[1;33m=\u001b[0m \u001b[0mnp\u001b[0m\u001b[1;33m.\u001b[0m\u001b[0marray\u001b[0m\u001b[1;33m(\u001b[0m\u001b[0mnp\u001b[0m\u001b[1;33m.\u001b[0m\u001b[0mrandom\u001b[0m\u001b[1;33m.\u001b[0m\u001b[0mrand\u001b[0m\u001b[1;33m(\u001b[0m\u001b[1;36m2\u001b[0m\u001b[1;33m,\u001b[0m\u001b[1;36m1\u001b[0m\u001b[1;33m)\u001b[0m\u001b[1;33m)\u001b[0m\u001b[1;33m\u001b[0m\u001b[0m\n",
      "\u001b[1;31mAttributeError\u001b[0m: 'list' object has no attribute 'T'"
     ]
    }
   ],
   "source": [
    "X = [0.78051,-0.063669,1]\n",
    "y = 1\n",
    "trainPerceptronAlgorithm(X,y)"
   ]
  },
  {
   "cell_type": "code",
   "execution_count": 6,
   "metadata": {},
   "outputs": [
    {
     "ename": "TypeError",
     "evalue": "'numpy.float64' object is not iterable",
     "output_type": "error",
     "traceback": [
      "\u001b[1;31m---------------------------------------------------------------------------\u001b[0m",
      "\u001b[1;31mTypeError\u001b[0m                                 Traceback (most recent call last)",
      "\u001b[1;32m<ipython-input-6-bf84267726b4>\u001b[0m in \u001b[0;36m<module>\u001b[1;34m()\u001b[0m\n\u001b[0;32m      1\u001b[0m \u001b[0mX\u001b[0m \u001b[1;33m=\u001b[0m \u001b[0mnp\u001b[0m\u001b[1;33m.\u001b[0m\u001b[0marray\u001b[0m\u001b[1;33m(\u001b[0m\u001b[1;33m[\u001b[0m\u001b[1;36m0.78051\u001b[0m\u001b[1;33m,\u001b[0m\u001b[1;33m-\u001b[0m\u001b[1;36m0.063669\u001b[0m\u001b[1;33m]\u001b[0m\u001b[1;33m)\u001b[0m\u001b[1;33m\u001b[0m\u001b[0m\n\u001b[0;32m      2\u001b[0m \u001b[0my\u001b[0m \u001b[1;33m=\u001b[0m \u001b[1;36m1\u001b[0m\u001b[1;33m\u001b[0m\u001b[0m\n\u001b[1;32m----> 3\u001b[1;33m \u001b[0mtrainPerceptronAlgorithm\u001b[0m\u001b[1;33m(\u001b[0m\u001b[0mX\u001b[0m\u001b[1;33m,\u001b[0m\u001b[0my\u001b[0m\u001b[1;33m)\u001b[0m\u001b[1;33m\u001b[0m\u001b[0m\n\u001b[0m",
      "\u001b[1;32m<ipython-input-1-99048f47a03a>\u001b[0m in \u001b[0;36mtrainPerceptronAlgorithm\u001b[1;34m(X, y, learn_rate, num_epochs)\u001b[0m\n\u001b[0;32m     26\u001b[0m \u001b[1;31m# and see your results plotted below.\u001b[0m\u001b[1;33m\u001b[0m\u001b[1;33m\u001b[0m\u001b[0m\n\u001b[0;32m     27\u001b[0m \u001b[1;32mdef\u001b[0m \u001b[0mtrainPerceptronAlgorithm\u001b[0m\u001b[1;33m(\u001b[0m\u001b[0mX\u001b[0m\u001b[1;33m,\u001b[0m \u001b[0my\u001b[0m\u001b[1;33m,\u001b[0m \u001b[0mlearn_rate\u001b[0m \u001b[1;33m=\u001b[0m \u001b[1;36m0.01\u001b[0m\u001b[1;33m,\u001b[0m \u001b[0mnum_epochs\u001b[0m \u001b[1;33m=\u001b[0m \u001b[1;36m25\u001b[0m\u001b[1;33m)\u001b[0m\u001b[1;33m:\u001b[0m\u001b[1;33m\u001b[0m\u001b[0m\n\u001b[1;32m---> 28\u001b[1;33m     \u001b[0mx_min\u001b[0m\u001b[1;33m,\u001b[0m \u001b[0mx_max\u001b[0m \u001b[1;33m=\u001b[0m \u001b[0mmin\u001b[0m\u001b[1;33m(\u001b[0m\u001b[0mX\u001b[0m\u001b[1;33m.\u001b[0m\u001b[0mT\u001b[0m\u001b[1;33m[\u001b[0m\u001b[1;36m0\u001b[0m\u001b[1;33m]\u001b[0m\u001b[1;33m)\u001b[0m\u001b[1;33m,\u001b[0m \u001b[0mmax\u001b[0m\u001b[1;33m(\u001b[0m\u001b[0mX\u001b[0m\u001b[1;33m.\u001b[0m\u001b[0mT\u001b[0m\u001b[1;33m[\u001b[0m\u001b[1;36m0\u001b[0m\u001b[1;33m]\u001b[0m\u001b[1;33m)\u001b[0m\u001b[1;33m\u001b[0m\u001b[0m\n\u001b[0m\u001b[0;32m     29\u001b[0m     \u001b[0my_min\u001b[0m\u001b[1;33m,\u001b[0m \u001b[0my_max\u001b[0m \u001b[1;33m=\u001b[0m \u001b[0mmin\u001b[0m\u001b[1;33m(\u001b[0m\u001b[0mX\u001b[0m\u001b[1;33m.\u001b[0m\u001b[0mT\u001b[0m\u001b[1;33m[\u001b[0m\u001b[1;36m1\u001b[0m\u001b[1;33m]\u001b[0m\u001b[1;33m)\u001b[0m\u001b[1;33m,\u001b[0m \u001b[0mmax\u001b[0m\u001b[1;33m(\u001b[0m\u001b[0mX\u001b[0m\u001b[1;33m.\u001b[0m\u001b[0mT\u001b[0m\u001b[1;33m[\u001b[0m\u001b[1;36m1\u001b[0m\u001b[1;33m]\u001b[0m\u001b[1;33m)\u001b[0m\u001b[1;33m\u001b[0m\u001b[0m\n\u001b[0;32m     30\u001b[0m     \u001b[0mW\u001b[0m \u001b[1;33m=\u001b[0m \u001b[0mnp\u001b[0m\u001b[1;33m.\u001b[0m\u001b[0marray\u001b[0m\u001b[1;33m(\u001b[0m\u001b[0mnp\u001b[0m\u001b[1;33m.\u001b[0m\u001b[0mrandom\u001b[0m\u001b[1;33m.\u001b[0m\u001b[0mrand\u001b[0m\u001b[1;33m(\u001b[0m\u001b[1;36m2\u001b[0m\u001b[1;33m,\u001b[0m\u001b[1;36m1\u001b[0m\u001b[1;33m)\u001b[0m\u001b[1;33m)\u001b[0m\u001b[1;33m\u001b[0m\u001b[0m\n",
      "\u001b[1;31mTypeError\u001b[0m: 'numpy.float64' object is not iterable"
     ]
    }
   ],
   "source": [
    "X = np.array([0.78051,-0.063669])\n",
    "y = 1\n",
    "trainPerceptronAlgorithm(X,y)"
   ]
  },
  {
   "cell_type": "code",
   "execution_count": 7,
   "metadata": {},
   "outputs": [
    {
     "data": {
      "text/plain": [
       "array([ 0.78051 , -0.063669])"
      ]
     },
     "execution_count": 7,
     "metadata": {},
     "output_type": "execute_result"
    }
   ],
   "source": [
    "X"
   ]
  },
  {
   "cell_type": "code",
   "execution_count": 8,
   "metadata": {},
   "outputs": [
    {
     "data": {
      "text/plain": [
       "1"
      ]
     },
     "execution_count": 8,
     "metadata": {},
     "output_type": "execute_result"
    }
   ],
   "source": [
    "y"
   ]
  },
  {
   "cell_type": "code",
   "execution_count": 9,
   "metadata": {},
   "outputs": [],
   "source": [
    "import numpy as np\n",
    "# Setting the random seed, feel free to change it and see different solutions.\n",
    "np.random.seed(42)\n",
    "\n",
    "def stepFunction(t):\n",
    "    if t >= 0:\n",
    "        return 1\n",
    "    return 0\n",
    "\n",
    "def prediction(X, W, b):\n",
    "    return stepFunction((np.matmul(X,W)+b)[0])\n",
    "\n",
    "# TODO: Fill in the code below to implement the perceptron trick.\n",
    "# The function should receive as inputs the data X, the labels y,\n",
    "# the weights W (as an array), and the bias b,\n",
    "# update the weights and bias W, b, according to the perceptron algorithm,\n",
    "# and return W and b.\n",
    "def perceptronStep(X, y, W, b, learn_rate = 0.01):\n",
    "    for i in range(len(X)):\n",
    "        y_hat = prediction(X[i],W,b)\n",
    "        if y[i]-y_hat == 1:\n",
    "            W[0] += X[i][0]*learn_rate\n",
    "            W[1] += X[i][1]*learn_rate\n",
    "            b += learn_rate\n",
    "        elif y[i]-y_hat == -1:\n",
    "            W[0] -= X[i][0]*learn_rate\n",
    "            W[1] -= X[i][1]*learn_rate\n",
    "            b -= learn_rate\n",
    "    return W, b\n",
    "    \n",
    "# This function runs the perceptron algorithm repeatedly on the dataset,\n",
    "# and returns a few of the boundary lines obtained in the iterations,\n",
    "# for plotting purposes.\n",
    "# Feel free to play with the learning rate and the num_epochs,\n",
    "# and see your results plotted below.\n",
    "def trainPerceptronAlgorithm(X, y, learn_rate = 0.01, num_epochs = 25):\n",
    "    x_min, x_max = min(X.T[0]), max(X.T[0])\n",
    "    y_min, y_max = min(X.T[1]), max(X.T[1])\n",
    "    W = np.array(np.random.rand(2,1))\n",
    "    b = np.random.rand(1)[0] + x_max\n",
    "    # These are the solution lines that get plotted below.\n",
    "    boundary_lines = []\n",
    "    for i in range(num_epochs):\n",
    "        # In each epoch, we apply the perceptron step.\n",
    "        W, b = perceptronStep(X, y, W, b, learn_rate)\n",
    "        boundary_lines.append((-W[0]/W[1], -b/W[1]))\n",
    "    return boundary_lines\n"
   ]
  },
  {
   "cell_type": "code",
   "execution_count": 10,
   "metadata": {},
   "outputs": [
    {
     "name": "stdout",
     "output_type": "stream",
     "text": [
      "     0.78051  -0.063669  1\n",
      "0   0.287740   0.291390  1\n",
      "1   0.407140   0.178780  1\n",
      "2   0.292300   0.421700  1\n",
      "3   0.509220   0.352560  1\n",
      "4   0.277850   0.108020  1\n",
      "5   0.275270   0.332230  1\n",
      "6   0.439990   0.312450  1\n",
      "7   0.335570   0.429840  1\n",
      "8   0.234480   0.249860  1\n",
      "9   0.008449   0.136580  1\n",
      "10  0.124190   0.335950  1\n",
      "11  0.256440   0.426240  1\n",
      "12  0.459100   0.404260  1\n",
      "13  0.445470   0.451170  1\n",
      "14  0.422180   0.201180  1\n",
      "15  0.495630   0.214450  1\n",
      "16  0.308480   0.243060  1\n",
      "17  0.397070   0.444380  1\n",
      "18  0.329450   0.392170  1\n",
      "19  0.407390   0.402710  1\n",
      "20  0.310600   0.507020  1\n",
      "21  0.496380   0.453840  1\n",
      "22  0.100730   0.320530  1\n",
      "23  0.699070   0.373070  1\n",
      "24  0.297670   0.696480  1\n",
      "25  0.150990   0.573410  1\n",
      "26  0.164270   0.277590  1\n",
      "27  0.332590   0.055964  1\n",
      "28  0.537410   0.286370  1\n",
      "29  0.195030   0.368790  1\n",
      "..       ...        ... ..\n",
      "69  0.708760   0.967640  0\n",
      "70  0.691760   0.608650  0\n",
      "71  0.664080   0.920750  0\n",
      "72  0.659730   0.666660  0\n",
      "73  0.645740   0.568450  0\n",
      "74  0.896390   0.708500  0\n",
      "75  0.854760   0.631670  0\n",
      "76  0.620910   0.804240  0\n",
      "77  0.790570   0.561080  0\n",
      "78  0.589350   0.715820  0\n",
      "79  0.568460   0.740600  0\n",
      "80  0.659120   0.715480  0\n",
      "81  0.709380   0.740410  0\n",
      "82  0.591540   0.629270  0\n",
      "83  0.458290   0.464100  0\n",
      "84  0.799820   0.748470  0\n",
      "85  0.609740   0.547570  0\n",
      "86  0.681270   0.869850  0\n",
      "87  0.766940   0.647360  0\n",
      "88  0.690480   0.830580  0\n",
      "89  0.681220   0.965410  0\n",
      "90  0.732290   0.642450  0\n",
      "91  0.761450   0.601380  0\n",
      "92  0.589850   0.869550  0\n",
      "93  0.731450   0.745160  0\n",
      "94  0.770290   0.701400  0\n",
      "95  0.731560   0.717820  0\n",
      "96  0.445560   0.579910  0\n",
      "97  0.852750   0.859870  0\n",
      "98  0.519120   0.623590  0\n",
      "\n",
      "[99 rows x 3 columns]\n"
     ]
    }
   ],
   "source": [
    "import pandas as pd\n",
    "df1 = pd.read_csv(\"C:\\DeepLearningNanodegree\\deeplearningclass/data.csv\")\n",
    "print(df1)"
   ]
  },
  {
   "cell_type": "code",
   "execution_count": 2,
   "metadata": {},
   "outputs": [
    {
     "name": "stdout",
     "output_type": "stream",
     "text": [
      "Aw, snap! We didn't get a username with your request.\n",
      "\n",
      "Don't have an account? https://plot.ly/api_signup\n",
      "\n",
      "Questions? accounts@plot.ly\n"
     ]
    },
    {
     "ename": "PlotlyError",
     "evalue": "Because you didn't supply a 'file_id' in the call, we're assuming you're trying to snag a figure from a url. You supplied the url, '', we expected it to start with 'https://plot.ly'.\nRun help on this function for more information.",
     "output_type": "error",
     "traceback": [
      "\u001b[1;31m---------------------------------------------------------------------------\u001b[0m",
      "\u001b[1;31mPlotlyError\u001b[0m                               Traceback (most recent call last)",
      "\u001b[1;32m<ipython-input-2-97104878c541>\u001b[0m in \u001b[0;36m<module>\u001b[1;34m()\u001b[0m\n\u001b[0;32m      4\u001b[0m \u001b[0mdf1\u001b[0m \u001b[1;33m=\u001b[0m \u001b[0mpd\u001b[0m\u001b[1;33m.\u001b[0m\u001b[0mread_csv\u001b[0m\u001b[1;33m(\u001b[0m\u001b[1;34m\"C:\\DeepLearningNanodegree\\deeplearningclass/data.csv\"\u001b[0m\u001b[1;33m)\u001b[0m\u001b[1;33m\u001b[0m\u001b[0m\n\u001b[0;32m      5\u001b[0m \u001b[0mtable\u001b[0m \u001b[1;33m=\u001b[0m \u001b[0mff\u001b[0m\u001b[1;33m.\u001b[0m\u001b[0mcreate_table\u001b[0m\u001b[1;33m(\u001b[0m\u001b[0mdf1\u001b[0m\u001b[1;33m)\u001b[0m\u001b[1;33m\u001b[0m\u001b[0m\n\u001b[1;32m----> 6\u001b[1;33m \u001b[0mpy\u001b[0m\u001b[1;33m.\u001b[0m\u001b[0miplot\u001b[0m\u001b[1;33m(\u001b[0m\u001b[0mtable\u001b[0m\u001b[1;33m,\u001b[0m \u001b[0mfilename\u001b[0m\u001b[1;33m=\u001b[0m\u001b[1;34m'jupyter-table1'\u001b[0m\u001b[1;33m)\u001b[0m\u001b[1;33m\u001b[0m\u001b[0m\n\u001b[0m",
      "\u001b[1;32m~\\Anaconda3\\lib\\site-packages\\plotly\\plotly\\plotly.py\u001b[0m in \u001b[0;36miplot\u001b[1;34m(figure_or_data, **plot_options)\u001b[0m\n\u001b[0;32m    162\u001b[0m         \u001b[0membed_options\u001b[0m\u001b[1;33m[\u001b[0m\u001b[1;34m'height'\u001b[0m\u001b[1;33m]\u001b[0m \u001b[1;33m=\u001b[0m \u001b[0mstr\u001b[0m\u001b[1;33m(\u001b[0m\u001b[0membed_options\u001b[0m\u001b[1;33m[\u001b[0m\u001b[1;34m'height'\u001b[0m\u001b[1;33m]\u001b[0m\u001b[1;33m)\u001b[0m \u001b[1;33m+\u001b[0m \u001b[1;34m'px'\u001b[0m\u001b[1;33m\u001b[0m\u001b[0m\n\u001b[0;32m    163\u001b[0m \u001b[1;33m\u001b[0m\u001b[0m\n\u001b[1;32m--> 164\u001b[1;33m     \u001b[1;32mreturn\u001b[0m \u001b[0mtools\u001b[0m\u001b[1;33m.\u001b[0m\u001b[0membed\u001b[0m\u001b[1;33m(\u001b[0m\u001b[0murl\u001b[0m\u001b[1;33m,\u001b[0m \u001b[1;33m**\u001b[0m\u001b[0membed_options\u001b[0m\u001b[1;33m)\u001b[0m\u001b[1;33m\u001b[0m\u001b[0m\n\u001b[0m\u001b[0;32m    165\u001b[0m \u001b[1;33m\u001b[0m\u001b[0m\n\u001b[0;32m    166\u001b[0m \u001b[1;33m\u001b[0m\u001b[0m\n",
      "\u001b[1;32m~\\Anaconda3\\lib\\site-packages\\plotly\\tools.py\u001b[0m in \u001b[0;36membed\u001b[1;34m(file_owner_or_url, file_id, width, height)\u001b[0m\n\u001b[0;32m    394\u001b[0m         \u001b[1;32melse\u001b[0m\u001b[1;33m:\u001b[0m\u001b[1;33m\u001b[0m\u001b[0m\n\u001b[0;32m    395\u001b[0m             \u001b[0murl\u001b[0m \u001b[1;33m=\u001b[0m \u001b[0mfile_owner_or_url\u001b[0m\u001b[1;33m\u001b[0m\u001b[0m\n\u001b[1;32m--> 396\u001b[1;33m         \u001b[1;32mreturn\u001b[0m \u001b[0mPlotlyDisplay\u001b[0m\u001b[1;33m(\u001b[0m\u001b[0murl\u001b[0m\u001b[1;33m,\u001b[0m \u001b[0mwidth\u001b[0m\u001b[1;33m,\u001b[0m \u001b[0mheight\u001b[0m\u001b[1;33m)\u001b[0m\u001b[1;33m\u001b[0m\u001b[0m\n\u001b[0m\u001b[0;32m    397\u001b[0m     \u001b[1;32melse\u001b[0m\u001b[1;33m:\u001b[0m\u001b[1;33m\u001b[0m\u001b[0m\n\u001b[0;32m    398\u001b[0m         if (get_config_defaults()['plotly_domain']\n",
      "\u001b[1;32m~\\Anaconda3\\lib\\site-packages\\plotly\\tools.py\u001b[0m in \u001b[0;36m__init__\u001b[1;34m(self, url, width, height)\u001b[0m\n\u001b[0;32m   1438\u001b[0m         \u001b[1;32mdef\u001b[0m \u001b[0m__init__\u001b[0m\u001b[1;33m(\u001b[0m\u001b[0mself\u001b[0m\u001b[1;33m,\u001b[0m \u001b[0murl\u001b[0m\u001b[1;33m,\u001b[0m \u001b[0mwidth\u001b[0m\u001b[1;33m,\u001b[0m \u001b[0mheight\u001b[0m\u001b[1;33m)\u001b[0m\u001b[1;33m:\u001b[0m\u001b[1;33m\u001b[0m\u001b[0m\n\u001b[0;32m   1439\u001b[0m             \u001b[0mself\u001b[0m\u001b[1;33m.\u001b[0m\u001b[0mresource\u001b[0m \u001b[1;33m=\u001b[0m \u001b[0murl\u001b[0m\u001b[1;33m\u001b[0m\u001b[0m\n\u001b[1;32m-> 1440\u001b[1;33m             \u001b[0mself\u001b[0m\u001b[1;33m.\u001b[0m\u001b[0membed_code\u001b[0m \u001b[1;33m=\u001b[0m \u001b[0mget_embed\u001b[0m\u001b[1;33m(\u001b[0m\u001b[0murl\u001b[0m\u001b[1;33m,\u001b[0m \u001b[0mwidth\u001b[0m\u001b[1;33m=\u001b[0m\u001b[0mwidth\u001b[0m\u001b[1;33m,\u001b[0m \u001b[0mheight\u001b[0m\u001b[1;33m=\u001b[0m\u001b[0mheight\u001b[0m\u001b[1;33m)\u001b[0m\u001b[1;33m\u001b[0m\u001b[0m\n\u001b[0m\u001b[0;32m   1441\u001b[0m             \u001b[0msuper\u001b[0m\u001b[1;33m(\u001b[0m\u001b[0mPlotlyDisplay\u001b[0m\u001b[1;33m,\u001b[0m \u001b[0mself\u001b[0m\u001b[1;33m)\u001b[0m\u001b[1;33m.\u001b[0m\u001b[0m__init__\u001b[0m\u001b[1;33m(\u001b[0m\u001b[0mdata\u001b[0m\u001b[1;33m=\u001b[0m\u001b[0mself\u001b[0m\u001b[1;33m.\u001b[0m\u001b[0membed_code\u001b[0m\u001b[1;33m)\u001b[0m\u001b[1;33m\u001b[0m\u001b[0m\n\u001b[0;32m   1442\u001b[0m \u001b[1;33m\u001b[0m\u001b[0m\n",
      "\u001b[1;32m~\\Anaconda3\\lib\\site-packages\\plotly\\tools.py\u001b[0m in \u001b[0;36mget_embed\u001b[1;34m(file_owner_or_url, file_id, width, height)\u001b[0m\n\u001b[0;32m    299\u001b[0m                 \u001b[1;34m\"'{1}'.\"\u001b[0m\u001b[1;33m\u001b[0m\u001b[0m\n\u001b[0;32m    300\u001b[0m                 \u001b[1;34m\"\\nRun help on this function for more information.\"\u001b[0m\u001b[1;33m\u001b[0m\u001b[0m\n\u001b[1;32m--> 301\u001b[1;33m                 \"\".format(url, plotly_rest_url))\n\u001b[0m\u001b[0;32m    302\u001b[0m         \u001b[0murlsplit\u001b[0m \u001b[1;33m=\u001b[0m \u001b[0msix\u001b[0m\u001b[1;33m.\u001b[0m\u001b[0mmoves\u001b[0m\u001b[1;33m.\u001b[0m\u001b[0murllib\u001b[0m\u001b[1;33m.\u001b[0m\u001b[0mparse\u001b[0m\u001b[1;33m.\u001b[0m\u001b[0murlparse\u001b[0m\u001b[1;33m(\u001b[0m\u001b[0murl\u001b[0m\u001b[1;33m)\u001b[0m\u001b[1;33m\u001b[0m\u001b[0m\n\u001b[0;32m    303\u001b[0m         \u001b[0mfile_owner\u001b[0m \u001b[1;33m=\u001b[0m \u001b[0murlsplit\u001b[0m\u001b[1;33m.\u001b[0m\u001b[0mpath\u001b[0m\u001b[1;33m.\u001b[0m\u001b[0msplit\u001b[0m\u001b[1;33m(\u001b[0m\u001b[1;34m'/'\u001b[0m\u001b[1;33m)\u001b[0m\u001b[1;33m[\u001b[0m\u001b[1;36m1\u001b[0m\u001b[1;33m]\u001b[0m\u001b[1;33m.\u001b[0m\u001b[0msplit\u001b[0m\u001b[1;33m(\u001b[0m\u001b[1;34m'~'\u001b[0m\u001b[1;33m)\u001b[0m\u001b[1;33m[\u001b[0m\u001b[1;36m1\u001b[0m\u001b[1;33m]\u001b[0m\u001b[1;33m\u001b[0m\u001b[0m\n",
      "\u001b[1;31mPlotlyError\u001b[0m: Because you didn't supply a 'file_id' in the call, we're assuming you're trying to snag a figure from a url. You supplied the url, '', we expected it to start with 'https://plot.ly'.\nRun help on this function for more information."
     ]
    }
   ],
   "source": [
    "import plotly.plotly as py\n",
    "import plotly.figure_factory as ff\n",
    "import pandas as pd\n",
    "df1 = pd.read_csv(\"C:\\DeepLearningNanodegree\\deeplearningclass/data.csv\")\n",
    "table = ff.create_table(df1)\n",
    "py.iplot(table, filename='jupyter-table1')"
   ]
  },
  {
   "cell_type": "code",
   "execution_count": 3,
   "metadata": {},
   "outputs": [],
   "source": [
    "import matplotlib.pyplot as plt"
   ]
  },
  {
   "cell_type": "code",
   "execution_count": 4,
   "metadata": {},
   "outputs": [
    {
     "data": {
      "text/plain": [
       "[<matplotlib.lines.Line2D at 0x26bd21fc0f0>,\n",
       " <matplotlib.lines.Line2D at 0x26bd21fc320>,\n",
       " <matplotlib.lines.Line2D at 0x26bd21fc470>]"
      ]
     },
     "execution_count": 4,
     "metadata": {},
     "output_type": "execute_result"
    },
    {
     "data": {
      "image/png": "[encoded data removed]",
      "text/plain": [
       "<Figure size 432x288 with 1 Axes>"
      ]
     },
     "metadata": {},
     "output_type": "display_data"
    }
   ],
   "source": [
    "plt.plot(df1)"
   ]
  },
  {
   "cell_type": "code",
   "execution_count": 7,
   "metadata": {},
   "outputs": [
    {
     "data": {
      "text/plain": [
       "[<matplotlib.lines.Line2D at 0x26bd1c99438>,\n",
       " <matplotlib.lines.Line2D at 0x26bd1c99588>,\n",
       " <matplotlib.lines.Line2D at 0x26bd1c996d8>]"
      ]
     },
     "execution_count": 7,
     "metadata": {},
     "output_type": "execute_result"
    },
    {
     "data": {
      "image/png": "[encoded data removed]",
      "text/plain": [
       "<Figure size 432x288 with 1 Axes>"
      ]
     },
     "metadata": {},
     "output_type": "display_data"
    }
   ],
   "source": [
    "import pandas as pd\n",
    "import matplotlib.pyplot as plt\n",
    "df1 = pd.read_csv(\"C:\\DeepLearningNanodegree\\deeplearningclass/data.csv\")\n",
    "plt.plot(df1)"
   ]
  },
  {
   "cell_type": "code",
   "execution_count": 6,
   "metadata": {},
   "outputs": [
    {
     "name": "stdout",
     "output_type": "stream",
     "text": [
      "Automatic pdb calling has been turned ON\n"
     ]
    }
   ],
   "source": [
    "%pdb"
   ]
  },
  {
   "cell_type": "code",
   "execution_count": 8,
   "metadata": {},
   "outputs": [
    {
     "data": {
      "text/plain": [
       "[<matplotlib.lines.Line2D at 0x26bd25242e8>,\n",
       " <matplotlib.lines.Line2D at 0x26bd2524438>,\n",
       " <matplotlib.lines.Line2D at 0x26bd2524588>]"
      ]
     },
     "execution_count": 8,
     "metadata": {},
     "output_type": "execute_result"
    },
    {
     "data": {
      "image/png": "[encoded data removed]",
      "text/plain": [
       "<Figure size 432x288 with 1 Axes>"
      ]
     },
     "metadata": {},
     "output_type": "display_data"
    }
   ],
   "source": [
    "import pandas as pd\n",
    "import matplotlib.pyplot as plt\n",
    "df1 = pd.read_csv(\"C:\\DeepLearningNanodegree\\deeplearningclass/data.csv\")\n",
    "plt.plot(df1)"
   ]
  },
  {
   "cell_type": "code",
   "execution_count": 9,
   "metadata": {},
   "outputs": [
    {
     "ename": "TypeError",
     "evalue": "unsupported operand type(s) for +: 'int' and 'str'",
     "output_type": "error",
     "traceback": [
      "\u001b[1;31m---------------------------------------------------------------------------\u001b[0m",
      "\u001b[1;31mTypeError\u001b[0m                                 Traceback (most recent call last)",
      "\u001b[1;32m<ipython-input-9-e859388b2742>\u001b[0m in \u001b[0;36m<module>\u001b[1;34m()\u001b[0m\n\u001b[0;32m      1\u001b[0m \u001b[0mnumbers\u001b[0m \u001b[1;33m=\u001b[0m\u001b[1;34m'hello'\u001b[0m\u001b[1;33m\u001b[0m\u001b[0m\n\u001b[1;32m----> 2\u001b[1;33m \u001b[0msum\u001b[0m\u001b[1;33m(\u001b[0m\u001b[0mnumbers\u001b[0m\u001b[1;33m)\u001b[0m\u001b[1;33m\u001b[0m\u001b[0m\n\u001b[0m",
      "\u001b[1;31mTypeError\u001b[0m: unsupported operand type(s) for +: 'int' and 'str'"
     ]
    },
    {
     "name": "stdout",
     "output_type": "stream",
     "text": [
      "> \u001b[1;32m<ipython-input-9-e859388b2742>\u001b[0m(2)\u001b[0;36m<module>\u001b[1;34m()\u001b[0m\n",
      "\u001b[1;32m      1 \u001b[1;33m\u001b[0mnumbers\u001b[0m \u001b[1;33m=\u001b[0m\u001b[1;34m'hello'\u001b[0m\u001b[1;33m\u001b[0m\u001b[0m\n",
      "\u001b[0m\u001b[1;32m----> 2 \u001b[1;33m\u001b[0msum\u001b[0m\u001b[1;33m(\u001b[0m\u001b[0mnumbers\u001b[0m\u001b[1;33m)\u001b[0m\u001b[1;33m\u001b[0m\u001b[0m\n",
      "\u001b[0m\n",
      "ipdb> numbers\n",
      "'hello'\n",
      "ipdb> q\n"
     ]
    }
   ],
   "source": [
    "numbers ='hello'\n",
    "sum(numbers)"
   ]
  },
  {
   "cell_type": "code",
   "execution_count": 10,
   "metadata": {},
   "outputs": [],
   "source": [
    "import csv\n",
    "\n",
    "c1 = []\n",
    "c2 = []\n",
    "c3 = []\n",
    "with open('C:\\DeepLearningNanodegree\\deeplearningclass/data.csv', 'r') as f:\n",
    "    reader = csv.reader(f, delimiter=',')\n",
    "    for row in reader:\n",
    "        c1.append(row[0])\n",
    "        c2.append(row[1])\n",
    "        c3.append(row[2])"
   ]
  },
  {
   "cell_type": "code",
   "execution_count": 11,
   "metadata": {},
   "outputs": [
    {
     "data": {
      "text/plain": [
       "['0.78051',\n",
       " '0.28774',\n",
       " '0.40714',\n",
       " '0.2923',\n",
       " '0.50922',\n",
       " '0.27785',\n",
       " '0.27527',\n",
       " '0.43999',\n",
       " '0.33557',\n",
       " '0.23448',\n",
       " '0.0084492',\n",
       " '0.12419',\n",
       " '0.25644',\n",
       " '0.4591',\n",
       " '0.44547',\n",
       " '0.42218',\n",
       " '0.49563',\n",
       " '0.30848',\n",
       " '0.39707',\n",
       " '0.32945',\n",
       " '0.40739',\n",
       " '0.3106',\n",
       " '0.49638',\n",
       " '0.10073',\n",
       " '0.69907',\n",
       " '0.29767',\n",
       " '0.15099',\n",
       " '0.16427',\n",
       " '0.33259',\n",
       " '0.53741',\n",
       " '0.19503',\n",
       " '0.40278',\n",
       " '0.21296',\n",
       " '0.48447',\n",
       " '0.25476',\n",
       " '0.21726',\n",
       " '0.67078',\n",
       " '0.3815',\n",
       " '0.53838',\n",
       " '0.4849',\n",
       " '0.37095',\n",
       " '0.54527',\n",
       " '0.32149',\n",
       " '0.42216',\n",
       " '0.10194',\n",
       " '0.15254',\n",
       " '0.45558',\n",
       " '0.28488',\n",
       " '0.27633',\n",
       " '0.39748',\n",
       " '0.5533',\n",
       " '0.44274',\n",
       " '0.85176',\n",
       " '0.60436',\n",
       " '0.68243',\n",
       " '1',\n",
       " '0.72989',\n",
       " '0.67377',\n",
       " '0.78761',\n",
       " '0.71442',\n",
       " '0.49379',\n",
       " '0.78974',\n",
       " '0.67905',\n",
       " '0.6642',\n",
       " '0.79396',\n",
       " '0.70758',\n",
       " '0.59421',\n",
       " '0.49364',\n",
       " '0.77707',\n",
       " '0.79785',\n",
       " '0.70876',\n",
       " '0.69176',\n",
       " '0.66408',\n",
       " '0.65973',\n",
       " '0.64574',\n",
       " '0.89639',\n",
       " '0.85476',\n",
       " '0.62091',\n",
       " '0.79057',\n",
       " '0.58935',\n",
       " '0.56846',\n",
       " '0.65912',\n",
       " '0.70938',\n",
       " '0.59154',\n",
       " '0.45829',\n",
       " '0.79982',\n",
       " '0.60974',\n",
       " '0.68127',\n",
       " '0.76694',\n",
       " '0.69048',\n",
       " '0.68122',\n",
       " '0.73229',\n",
       " '0.76145',\n",
       " '0.58985',\n",
       " '0.73145',\n",
       " '0.77029',\n",
       " '0.73156',\n",
       " '0.44556',\n",
       " '0.85275',\n",
       " '0.51912']"
      ]
     },
     "execution_count": 11,
     "metadata": {},
     "output_type": "execute_result"
    }
   ],
   "source": [
    "c1"
   ]
  },
  {
   "cell_type": "code",
   "execution_count": 12,
   "metadata": {},
   "outputs": [
    {
     "data": {
      "text/plain": [
       "['-0.063669',\n",
       " '0.29139',\n",
       " '0.17878',\n",
       " '0.4217',\n",
       " '0.35256',\n",
       " '0.10802',\n",
       " '0.33223',\n",
       " '0.31245',\n",
       " '0.42984',\n",
       " '0.24986',\n",
       " '0.13658',\n",
       " '0.33595',\n",
       " '0.42624',\n",
       " '0.40426',\n",
       " '0.45117',\n",
       " '0.20118',\n",
       " '0.21445',\n",
       " '0.24306',\n",
       " '0.44438',\n",
       " '0.39217',\n",
       " '0.40271',\n",
       " '0.50702',\n",
       " '0.45384',\n",
       " '0.32053',\n",
       " '0.37307',\n",
       " '0.69648',\n",
       " '0.57341',\n",
       " '0.27759',\n",
       " '0.055964',\n",
       " '0.28637',\n",
       " '0.36879',\n",
       " '0.035148',\n",
       " '0.55169',\n",
       " '0.56991',\n",
       " '0.34596',\n",
       " '0.28641',\n",
       " '0.46538',\n",
       " '0.4622',\n",
       " '0.32774',\n",
       " '0.26071',\n",
       " '0.38809',\n",
       " '0.63911',\n",
       " '0.12007',\n",
       " '0.61666',\n",
       " '0.060408',\n",
       " '0.2168',\n",
       " '0.43769',\n",
       " '0.52142',\n",
       " '0.21264',\n",
       " '0.31902',\n",
       " '1',\n",
       " '0.59205',\n",
       " '0.6612',\n",
       " '0.86605',\n",
       " '0.48301',\n",
       " '0.76815',\n",
       " '0.8107',\n",
       " '0.77975',\n",
       " '0.58177',\n",
       " '0.7668',\n",
       " '0.54226',\n",
       " '0.74233',\n",
       " '0.60921',\n",
       " '0.72519',\n",
       " '0.56789',\n",
       " '0.76022',\n",
       " '0.61857',\n",
       " '0.56224',\n",
       " '0.35025',\n",
       " '0.76921',\n",
       " '0.96764',\n",
       " '0.60865',\n",
       " '0.92075',\n",
       " '0.66666',\n",
       " '0.56845',\n",
       " '0.7085',\n",
       " '0.63167',\n",
       " '0.80424',\n",
       " '0.56108',\n",
       " '0.71582',\n",
       " '0.7406',\n",
       " '0.71548',\n",
       " '0.74041',\n",
       " '0.62927',\n",
       " '0.4641',\n",
       " '0.74847',\n",
       " '0.54757',\n",
       " '0.86985',\n",
       " '0.64736',\n",
       " '0.83058',\n",
       " '0.96541',\n",
       " '0.64245',\n",
       " '0.60138',\n",
       " '0.86955',\n",
       " '0.74516',\n",
       " '0.7014',\n",
       " '0.71782',\n",
       " '0.57991',\n",
       " '0.85987',\n",
       " '0.62359']"
      ]
     },
     "execution_count": 12,
     "metadata": {},
     "output_type": "execute_result"
    }
   ],
   "source": [
    "c2"
   ]
  },
  {
   "cell_type": "code",
   "execution_count": 13,
   "metadata": {},
   "outputs": [
    {
     "data": {
      "text/plain": [
       "['1',\n",
       " '1',\n",
       " '1',\n",
       " '1',\n",
       " '1',\n",
       " '1',\n",
       " '1',\n",
       " '1',\n",
       " '1',\n",
       " '1',\n",
       " '1',\n",
       " '1',\n",
       " '1',\n",
       " '1',\n",
       " '1',\n",
       " '1',\n",
       " '1',\n",
       " '1',\n",
       " '1',\n",
       " '1',\n",
       " '1',\n",
       " '1',\n",
       " '1',\n",
       " '1',\n",
       " '1',\n",
       " '1',\n",
       " '1',\n",
       " '1',\n",
       " '1',\n",
       " '1',\n",
       " '1',\n",
       " '1',\n",
       " '1',\n",
       " '1',\n",
       " '1',\n",
       " '1',\n",
       " '1',\n",
       " '1',\n",
       " '1',\n",
       " '1',\n",
       " '1',\n",
       " '1',\n",
       " '1',\n",
       " '1',\n",
       " '1',\n",
       " '1',\n",
       " '1',\n",
       " '1',\n",
       " '1',\n",
       " '1',\n",
       " '0',\n",
       " '0',\n",
       " '0',\n",
       " '0',\n",
       " '0',\n",
       " '0',\n",
       " '0',\n",
       " '0',\n",
       " '0',\n",
       " '0',\n",
       " '0',\n",
       " '0',\n",
       " '0',\n",
       " '0',\n",
       " '0',\n",
       " '0',\n",
       " '0',\n",
       " '0',\n",
       " '0',\n",
       " '0',\n",
       " '0',\n",
       " '0',\n",
       " '0',\n",
       " '0',\n",
       " '0',\n",
       " '0',\n",
       " '0',\n",
       " '0',\n",
       " '0',\n",
       " '0',\n",
       " '0',\n",
       " '0',\n",
       " '0',\n",
       " '0',\n",
       " '0',\n",
       " '0',\n",
       " '0',\n",
       " '0',\n",
       " '0',\n",
       " '0',\n",
       " '0',\n",
       " '0',\n",
       " '0',\n",
       " '0',\n",
       " '0',\n",
       " '0',\n",
       " '0',\n",
       " '0',\n",
       " '0',\n",
       " '0']"
      ]
     },
     "execution_count": 13,
     "metadata": {},
     "output_type": "execute_result"
    }
   ],
   "source": [
    "c3"
   ]
  },
  {
   "cell_type": "code",
   "execution_count": 14,
   "metadata": {},
   "outputs": [],
   "source": [
    "import numpy as np\n",
    "# Load data\n",
    "data = np.loadtxt('C:\\DeepLearningNanodegree\\deeplearningclass/data.csv', delimiter=',')\n",
    "# Transpose data if needs be\n",
    "data = np.transpose(data)"
   ]
  },
  {
   "cell_type": "code",
   "execution_count": 15,
   "metadata": {},
   "outputs": [
    {
     "data": {
      "text/plain": [
       "array([[ 0.78051  ,  0.28774  ,  0.40714  ,  0.2923   ,  0.50922  ,\n",
       "         0.27785  ,  0.27527  ,  0.43999  ,  0.33557  ,  0.23448  ,\n",
       "         0.0084492,  0.12419  ,  0.25644  ,  0.4591   ,  0.44547  ,\n",
       "         0.42218  ,  0.49563  ,  0.30848  ,  0.39707  ,  0.32945  ,\n",
       "         0.40739  ,  0.3106   ,  0.49638  ,  0.10073  ,  0.69907  ,\n",
       "         0.29767  ,  0.15099  ,  0.16427  ,  0.33259  ,  0.53741  ,\n",
       "         0.19503  ,  0.40278  ,  0.21296  ,  0.48447  ,  0.25476  ,\n",
       "         0.21726  ,  0.67078  ,  0.3815   ,  0.53838  ,  0.4849   ,\n",
       "         0.37095  ,  0.54527  ,  0.32149  ,  0.42216  ,  0.10194  ,\n",
       "         0.15254  ,  0.45558  ,  0.28488  ,  0.27633  ,  0.39748  ,\n",
       "         0.5533   ,  0.44274  ,  0.85176  ,  0.60436  ,  0.68243  ,\n",
       "         1.       ,  0.72989  ,  0.67377  ,  0.78761  ,  0.71442  ,\n",
       "         0.49379  ,  0.78974  ,  0.67905  ,  0.6642   ,  0.79396  ,\n",
       "         0.70758  ,  0.59421  ,  0.49364  ,  0.77707  ,  0.79785  ,\n",
       "         0.70876  ,  0.69176  ,  0.66408  ,  0.65973  ,  0.64574  ,\n",
       "         0.89639  ,  0.85476  ,  0.62091  ,  0.79057  ,  0.58935  ,\n",
       "         0.56846  ,  0.65912  ,  0.70938  ,  0.59154  ,  0.45829  ,\n",
       "         0.79982  ,  0.60974  ,  0.68127  ,  0.76694  ,  0.69048  ,\n",
       "         0.68122  ,  0.73229  ,  0.76145  ,  0.58985  ,  0.73145  ,\n",
       "         0.77029  ,  0.73156  ,  0.44556  ,  0.85275  ,  0.51912  ],\n",
       "       [-0.063669 ,  0.29139  ,  0.17878  ,  0.4217   ,  0.35256  ,\n",
       "         0.10802  ,  0.33223  ,  0.31245  ,  0.42984  ,  0.24986  ,\n",
       "         0.13658  ,  0.33595  ,  0.42624  ,  0.40426  ,  0.45117  ,\n",
       "         0.20118  ,  0.21445  ,  0.24306  ,  0.44438  ,  0.39217  ,\n",
       "         0.40271  ,  0.50702  ,  0.45384  ,  0.32053  ,  0.37307  ,\n",
       "         0.69648  ,  0.57341  ,  0.27759  ,  0.055964 ,  0.28637  ,\n",
       "         0.36879  ,  0.035148 ,  0.55169  ,  0.56991  ,  0.34596  ,\n",
       "         0.28641  ,  0.46538  ,  0.4622   ,  0.32774  ,  0.26071  ,\n",
       "         0.38809  ,  0.63911  ,  0.12007  ,  0.61666  ,  0.060408 ,\n",
       "         0.2168   ,  0.43769  ,  0.52142  ,  0.21264  ,  0.31902  ,\n",
       "         1.       ,  0.59205  ,  0.6612   ,  0.86605  ,  0.48301  ,\n",
       "         0.76815  ,  0.8107   ,  0.77975  ,  0.58177  ,  0.7668   ,\n",
       "         0.54226  ,  0.74233  ,  0.60921  ,  0.72519  ,  0.56789  ,\n",
       "         0.76022  ,  0.61857  ,  0.56224  ,  0.35025  ,  0.76921  ,\n",
       "         0.96764  ,  0.60865  ,  0.92075  ,  0.66666  ,  0.56845  ,\n",
       "         0.7085   ,  0.63167  ,  0.80424  ,  0.56108  ,  0.71582  ,\n",
       "         0.7406   ,  0.71548  ,  0.74041  ,  0.62927  ,  0.4641   ,\n",
       "         0.74847  ,  0.54757  ,  0.86985  ,  0.64736  ,  0.83058  ,\n",
       "         0.96541  ,  0.64245  ,  0.60138  ,  0.86955  ,  0.74516  ,\n",
       "         0.7014   ,  0.71782  ,  0.57991  ,  0.85987  ,  0.62359  ],\n",
       "       [ 1.       ,  1.       ,  1.       ,  1.       ,  1.       ,\n",
       "         1.       ,  1.       ,  1.       ,  1.       ,  1.       ,\n",
       "         1.       ,  1.       ,  1.       ,  1.       ,  1.       ,\n",
       "         1.       ,  1.       ,  1.       ,  1.       ,  1.       ,\n",
       "         1.       ,  1.       ,  1.       ,  1.       ,  1.       ,\n",
       "         1.       ,  1.       ,  1.       ,  1.       ,  1.       ,\n",
       "         1.       ,  1.       ,  1.       ,  1.       ,  1.       ,\n",
       "         1.       ,  1.       ,  1.       ,  1.       ,  1.       ,\n",
       "         1.       ,  1.       ,  1.       ,  1.       ,  1.       ,\n",
       "         1.       ,  1.       ,  1.       ,  1.       ,  1.       ,\n",
       "         0.       ,  0.       ,  0.       ,  0.       ,  0.       ,\n",
       "         0.       ,  0.       ,  0.       ,  0.       ,  0.       ,\n",
       "         0.       ,  0.       ,  0.       ,  0.       ,  0.       ,\n",
       "         0.       ,  0.       ,  0.       ,  0.       ,  0.       ,\n",
       "         0.       ,  0.       ,  0.       ,  0.       ,  0.       ,\n",
       "         0.       ,  0.       ,  0.       ,  0.       ,  0.       ,\n",
       "         0.       ,  0.       ,  0.       ,  0.       ,  0.       ,\n",
       "         0.       ,  0.       ,  0.       ,  0.       ,  0.       ,\n",
       "         0.       ,  0.       ,  0.       ,  0.       ,  0.       ,\n",
       "         0.       ,  0.       ,  0.       ,  0.       ,  0.       ]])"
      ]
     },
     "execution_count": 15,
     "metadata": {},
     "output_type": "execute_result"
    }
   ],
   "source": [
    "data"
   ]
  },
  {
   "cell_type": "code",
   "execution_count": 16,
   "metadata": {},
   "outputs": [
    {
     "data": {
      "text/plain": [
       "(3, 100)"
      ]
     },
     "execution_count": 16,
     "metadata": {},
     "output_type": "execute_result"
    }
   ],
   "source": [
    "data.shape"
   ]
  },
  {
   "cell_type": "code",
   "execution_count": 17,
   "metadata": {},
   "outputs": [
    {
     "data": {
      "text/plain": [
       "array([0.78051  , 0.28774  , 0.40714  , 0.2923   , 0.50922  , 0.27785  ,\n",
       "       0.27527  , 0.43999  , 0.33557  , 0.23448  , 0.0084492, 0.12419  ,\n",
       "       0.25644  , 0.4591   , 0.44547  , 0.42218  , 0.49563  , 0.30848  ,\n",
       "       0.39707  , 0.32945  , 0.40739  , 0.3106   , 0.49638  , 0.10073  ,\n",
       "       0.69907  , 0.29767  , 0.15099  , 0.16427  , 0.33259  , 0.53741  ,\n",
       "       0.19503  , 0.40278  , 0.21296  , 0.48447  , 0.25476  , 0.21726  ,\n",
       "       0.67078  , 0.3815   , 0.53838  , 0.4849   , 0.37095  , 0.54527  ,\n",
       "       0.32149  , 0.42216  , 0.10194  , 0.15254  , 0.45558  , 0.28488  ,\n",
       "       0.27633  , 0.39748  , 0.5533   , 0.44274  , 0.85176  , 0.60436  ,\n",
       "       0.68243  , 1.       , 0.72989  , 0.67377  , 0.78761  , 0.71442  ,\n",
       "       0.49379  , 0.78974  , 0.67905  , 0.6642   , 0.79396  , 0.70758  ,\n",
       "       0.59421  , 0.49364  , 0.77707  , 0.79785  , 0.70876  , 0.69176  ,\n",
       "       0.66408  , 0.65973  , 0.64574  , 0.89639  , 0.85476  , 0.62091  ,\n",
       "       0.79057  , 0.58935  , 0.56846  , 0.65912  , 0.70938  , 0.59154  ,\n",
       "       0.45829  , 0.79982  , 0.60974  , 0.68127  , 0.76694  , 0.69048  ,\n",
       "       0.68122  , 0.73229  , 0.76145  , 0.58985  , 0.73145  , 0.77029  ,\n",
       "       0.73156  , 0.44556  , 0.85275  , 0.51912  ])"
      ]
     },
     "execution_count": 17,
     "metadata": {},
     "output_type": "execute_result"
    }
   ],
   "source": [
    "data[0]"
   ]
  },
  {
   "cell_type": "code",
   "execution_count": 18,
   "metadata": {},
   "outputs": [
    {
     "data": {
      "text/plain": [
       "array([-0.063669,  0.29139 ,  0.17878 ,  0.4217  ,  0.35256 ,  0.10802 ,\n",
       "        0.33223 ,  0.31245 ,  0.42984 ,  0.24986 ,  0.13658 ,  0.33595 ,\n",
       "        0.42624 ,  0.40426 ,  0.45117 ,  0.20118 ,  0.21445 ,  0.24306 ,\n",
       "        0.44438 ,  0.39217 ,  0.40271 ,  0.50702 ,  0.45384 ,  0.32053 ,\n",
       "        0.37307 ,  0.69648 ,  0.57341 ,  0.27759 ,  0.055964,  0.28637 ,\n",
       "        0.36879 ,  0.035148,  0.55169 ,  0.56991 ,  0.34596 ,  0.28641 ,\n",
       "        0.46538 ,  0.4622  ,  0.32774 ,  0.26071 ,  0.38809 ,  0.63911 ,\n",
       "        0.12007 ,  0.61666 ,  0.060408,  0.2168  ,  0.43769 ,  0.52142 ,\n",
       "        0.21264 ,  0.31902 ,  1.      ,  0.59205 ,  0.6612  ,  0.86605 ,\n",
       "        0.48301 ,  0.76815 ,  0.8107  ,  0.77975 ,  0.58177 ,  0.7668  ,\n",
       "        0.54226 ,  0.74233 ,  0.60921 ,  0.72519 ,  0.56789 ,  0.76022 ,\n",
       "        0.61857 ,  0.56224 ,  0.35025 ,  0.76921 ,  0.96764 ,  0.60865 ,\n",
       "        0.92075 ,  0.66666 ,  0.56845 ,  0.7085  ,  0.63167 ,  0.80424 ,\n",
       "        0.56108 ,  0.71582 ,  0.7406  ,  0.71548 ,  0.74041 ,  0.62927 ,\n",
       "        0.4641  ,  0.74847 ,  0.54757 ,  0.86985 ,  0.64736 ,  0.83058 ,\n",
       "        0.96541 ,  0.64245 ,  0.60138 ,  0.86955 ,  0.74516 ,  0.7014  ,\n",
       "        0.71782 ,  0.57991 ,  0.85987 ,  0.62359 ])"
      ]
     },
     "execution_count": 18,
     "metadata": {},
     "output_type": "execute_result"
    }
   ],
   "source": [
    "data[1]"
   ]
  },
  {
   "cell_type": "code",
   "execution_count": 19,
   "metadata": {},
   "outputs": [
    {
     "data": {
      "text/plain": [
       "array([1., 1., 1., 1., 1., 1., 1., 1., 1., 1., 1., 1., 1., 1., 1., 1., 1.,\n",
       "       1., 1., 1., 1., 1., 1., 1., 1., 1., 1., 1., 1., 1., 1., 1., 1., 1.,\n",
       "       1., 1., 1., 1., 1., 1., 1., 1., 1., 1., 1., 1., 1., 1., 1., 1., 0.,\n",
       "       0., 0., 0., 0., 0., 0., 0., 0., 0., 0., 0., 0., 0., 0., 0., 0., 0.,\n",
       "       0., 0., 0., 0., 0., 0., 0., 0., 0., 0., 0., 0., 0., 0., 0., 0., 0.,\n",
       "       0., 0., 0., 0., 0., 0., 0., 0., 0., 0., 0., 0., 0., 0., 0.])"
      ]
     },
     "execution_count": 19,
     "metadata": {},
     "output_type": "execute_result"
    }
   ],
   "source": [
    "data[2]"
   ]
  },
  {
   "cell_type": "code",
   "execution_count": null,
   "metadata": {},
   "outputs": [],
   "source": [
    "import matplotlib.pyplot as plt\n",
    "plt.scatter(data[0],data[1])"
   ]
  },
  {
   "cell_type": "code",
   "execution_count": null,
   "metadata": {},
   "outputs": [],
   "source": [
    "plt.plot(data[0],data[1])"
   ]
  },
  {
   "cell_type": "code",
   "execution_count": null,
   "metadata": {},
   "outputs": [],
   "source": [
    "import numpy as np\n",
    "# Setting the random seed, feel free to change it and see different solutions.\n",
    "np.random.seed(42)\n",
    "\n",
    "def stepFunction(t):\n",
    "    if t >= 0:\n",
    "        return 1\n",
    "    return 0\n",
    "\n",
    "def prediction(X, W, b):\n",
    "    return stepFunction((np.matmul(X,W)+b)[0])\n",
    "\n",
    "# TODO: Fill in the code below to implement the perceptron trick.\n",
    "# The function should receive as inputs the data X, the labels y,\n",
    "# the weights W (as an array), and the bias b,\n",
    "# update the weights and bias W, b, according to the perceptron algorithm,\n",
    "# and return W and b.\n",
    "def perceptronStep(X, y, W, b, learn_rate = 0.01):\n",
    "    for i in range(len(X)):\n",
    "        y_hat = prediction(X[i],W,b)\n",
    "        if y[i]-y_hat == 1:\n",
    "            W[0] += X[i][0]*learn_rate\n",
    "            W[1] += X[i][1]*learn_rate\n",
    "            b += learn_rate\n",
    "        elif y[i]-y_hat == -1:\n",
    "            W[0] -= X[i][0]*learn_rate\n",
    "            W[1] -= X[i][1]*learn_rate\n",
    "            b -= learn_rate\n",
    "    return W, b\n",
    "\n",
    "# This function runs the perceptron algorithm repeatedly on the dataset,\n",
    "# and returns a few of the boundary lines obtained in the iterations,\n",
    "# for plotting purposes.\n",
    "# Feel free to play with the learning rate and the num_epochs,\n",
    "# and see your results plotted below.\n",
    "def trainPerceptronAlgorithm(X, y, learn_rate = 0.01, num_epochs = 25):\n",
    "    x_min, x_max = min(X.T[0]), max(X.T[0])\n",
    "    y_min, y_max = min(X.T[1]), max(X.T[1])\n",
    "    W = np.array(np.random.rand(2,1))\n",
    "    b = np.random.rand(1)[0] + x_max\n",
    "    # These are the solution lines that get plotted below.\n",
    "    boundary_lines = []\n",
    "    for i in range(num_epochs):\n",
    "        # In each epoch, we apply the perceptron step.\n",
    "        W, b = perceptronStep(X, y, W, b, learn_rate)\n",
    "        boundary_lines.append((-W[0]/W[1], -b/W[1]))\n",
    "    return boundary_lines\n"
   ]
  },
  {
   "cell_type": "code",
   "execution_count": null,
   "metadata": {},
   "outputs": [],
   "source": [
    "trainPerceptronAlgorithm(data[0:1], data[2])"
   ]
  },
  {
   "cell_type": "code",
   "execution_count": null,
   "metadata": {},
   "outputs": [],
   "source": [
    "data[0:1]"
   ]
  },
  {
   "cell_type": "code",
   "execution_count": null,
   "metadata": {},
   "outputs": [],
   "source": [
    "import numpy as np\n",
    "\n",
    "# Write a function that takes as input a list of numbers, and returns\n",
    "# the list of values given by the softmax function.\n",
    "def softmax(L):\n",
    "    eOfL = np.exp(L)\n",
    "    sumOfEoL = np.sum(eOfL)\n",
    "    result = []\n",
    "    for i in eOfL:\n",
    "        result.append(i*1.0/sumOfEoL)\n",
    "    return result\n"
   ]
  },
  {
   "cell_type": "code",
   "execution_count": null,
   "metadata": {},
   "outputs": [],
   "source": [
    "d = np.array([1, 2, 3])\n",
    "r = softmax(d)\n",
    "r"
   ]
  },
  {
   "cell_type": "code",
   "execution_count": null,
   "metadata": {},
   "outputs": [],
   "source": []
  }
 ],
 "metadata": {
  "kernelspec": {
   "display_name": "Python [conda env:Anaconda3]",
   "language": "python",
   "name": "conda-env-Anaconda3-py"
  },
  "language_info": {
   "codemirror_mode": {
    "name": "ipython",
    "version": 3
   },
   "file_extension": ".py",
   "mimetype": "text/x-python",
   "name": "python",
   "nbconvert_exporter": "python",
   "pygments_lexer": "ipython3",
   "version": "3.6.5"
  }
 },
 "nbformat": 4,
 "nbformat_minor": 2
}
