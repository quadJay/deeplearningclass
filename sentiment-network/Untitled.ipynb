{
 "cells": [
  {
   "cell_type": "code",
   "execution_count": 4,
   "metadata": {},
   "outputs": [
    {
     "name": "stdout",
     "output_type": "stream",
     "text": [
      "{'pos', 'neg'}\n"
     ]
    }
   ],
   "source": [
    "a = set()\n",
    "a.add('neg')\n",
    "a.add('pos')\n",
    "a.add('neg')\n",
    "print(a)"
   ]
  },
  {
   "cell_type": "code",
   "execution_count": 9,
   "metadata": {},
   "outputs": [
    {
     "data": {
      "text/plain": [
       "(1, 100)"
      ]
     },
     "execution_count": 9,
     "metadata": {},
     "output_type": "execute_result"
    }
   ],
   "source": [
    "import numpy as np\n",
    "a = np.zeros((1, 100))\n",
    "a.shape"
   ]
  },
  {
   "cell_type": "code",
   "execution_count": 11,
   "metadata": {},
   "outputs": [
    {
     "name": "stdout",
     "output_type": "stream",
     "text": [
      "[[ 0.44623779  0.27764638 -0.71098009 -0.65367588 -0.41755496]\n",
      " [ 0.17271736  0.12648202  0.54939821  0.34016512 -0.3720502 ]\n",
      " [ 0.37009761  0.55979818  0.18229602 -0.01552884  0.2525582 ]\n",
      " [ 0.54037725 -0.17954463  0.8106144   0.13288068 -0.56156226]\n",
      " [-0.12932737  0.84182541  0.6452194  -0.47142203 -0.3513694 ]\n",
      " [ 0.0264297   0.5479486   0.00977478  0.41265303  0.29876849]\n",
      " [ 0.55711405  0.43973217 -0.18900305  0.78378105 -0.2608007 ]\n",
      " [-1.36214329 -0.30819074  0.75109573  0.60356229 -0.26748242]\n",
      " [ 0.12678872 -0.80967657  0.06880732 -0.61754003 -0.02316778]\n",
      " [ 0.10333778  0.06678736 -0.52760221  0.43121827  0.03795957]]\n"
     ]
    }
   ],
   "source": [
    "a = np.random.normal(0.0, 5**-0.5, (10,5))\n",
    "print(a)"
   ]
  },
  {
   "cell_type": "code",
   "execution_count": null,
   "metadata": {},
   "outputs": [],
   "source": []
  }
 ],
 "metadata": {
  "kernelspec": {
   "display_name": "Python [conda env:neuralnetworks]",
   "language": "python",
   "name": "conda-env-neuralnetworks-py"
  },
  "language_info": {
   "codemirror_mode": {
    "name": "ipython",
    "version": 3
   },
   "file_extension": ".py",
   "mimetype": "text/x-python",
   "name": "python",
   "nbconvert_exporter": "python",
   "pygments_lexer": "ipython3",
   "version": "3.6.6"
  }
 },
 "nbformat": 4,
 "nbformat_minor": 2
}
